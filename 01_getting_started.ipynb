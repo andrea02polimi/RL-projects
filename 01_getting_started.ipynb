{
  "cells": [
    {
      "cell_type": "markdown",
      "metadata": {
        "id": "view-in-github",
        "colab_type": "text"
      },
      "source": [
        "<a href=\"https://colab.research.google.com/github/andrea02polimi/RL-projects/blob/main/01_getting_started.ipynb\" target=\"_parent\"><img src=\"https://colab.research.google.com/assets/colab-badge.svg\" alt=\"Open In Colab\"/></a>"
      ]
    },
    {
      "cell_type": "markdown",
      "metadata": {
        "id": "AoxOjIlOImwx"
      },
      "source": [
        "# Getting Started\n",
        "\n",
        "This notebook is inspired to the Stable Baselines3 tutorial available at [https://github.com/araffin/rl-tutorial-jnrr19](https://github.com/araffin/rl-tutorial-jnrr19).\n",
        "\n",
        "\n",
        "## Introduction\n",
        "\n",
        "In this notebook, we will learn how to use **Gymnasium** environments and the basics of **Stable Baselines3**: how to instance an RL algorithm, train and evaluate it.\n",
        "\n",
        "### Links\n",
        "\n",
        "Gymnasium Github: [https://github.com/Farama-Foundation/Gymnasium](https://github.com/Farama-Foundation/Gymnasium)\n",
        "\n",
        "Gymnasium Documentation: [https://gymnasium.farama.org/index.html](https://gymnasium.farama.org/index.html#)\n",
        "\n",
        "Stable Baselines 3 Github:[https://github.com/DLR-RM/stable-baselines3](https://github.com/DLR-RM/stable-baselines3)\n",
        "\n",
        "Stable Baseline 3 Documentation: [https://stable-baselines3.readthedocs.io/en/master/](https://stable-baselines3.readthedocs.io/en/master/)\n",
        "\n",
        "## Install Gymnasium and Stable Baselines3 Using Pip"
      ]
    },
    {
      "cell_type": "code",
      "execution_count": null,
      "metadata": {
        "id": "dSw-cRdT2djP",
        "outputId": "f34d244f-7acc-4619-dbb0-66d4c6737d8a",
        "colab": {
          "base_uri": "https://localhost:8080/"
        }
      },
      "outputs": [
        {
          "output_type": "stream",
          "name": "stdout",
          "text": [
            "Requirement already satisfied: gymnasium in /usr/local/lib/python3.12/dist-packages (1.2.1)\n",
            "Requirement already satisfied: numpy>=1.21.0 in /usr/local/lib/python3.12/dist-packages (from gymnasium) (2.0.2)\n",
            "Requirement already satisfied: cloudpickle>=1.2.0 in /usr/local/lib/python3.12/dist-packages (from gymnasium) (3.1.1)\n",
            "Requirement already satisfied: typing-extensions>=4.3.0 in /usr/local/lib/python3.12/dist-packages (from gymnasium) (4.15.0)\n",
            "Requirement already satisfied: farama-notifications>=0.0.1 in /usr/local/lib/python3.12/dist-packages (from gymnasium) (0.0.4)\n",
            "Collecting renderlab\n",
            "  Downloading renderlab-0.1.20230421184216-py3-none-any.whl.metadata (1.9 kB)\n",
            "Requirement already satisfied: moviepy in /usr/local/lib/python3.12/dist-packages (from renderlab) (1.0.3)\n",
            "Requirement already satisfied: gymnasium in /usr/local/lib/python3.12/dist-packages (from renderlab) (1.2.1)\n",
            "Requirement already satisfied: numpy>=1.21.0 in /usr/local/lib/python3.12/dist-packages (from gymnasium->renderlab) (2.0.2)\n",
            "Requirement already satisfied: cloudpickle>=1.2.0 in /usr/local/lib/python3.12/dist-packages (from gymnasium->renderlab) (3.1.1)\n",
            "Requirement already satisfied: typing-extensions>=4.3.0 in /usr/local/lib/python3.12/dist-packages (from gymnasium->renderlab) (4.15.0)\n",
            "Requirement already satisfied: farama-notifications>=0.0.1 in /usr/local/lib/python3.12/dist-packages (from gymnasium->renderlab) (0.0.4)\n",
            "Requirement already satisfied: decorator<5.0,>=4.0.2 in /usr/local/lib/python3.12/dist-packages (from moviepy->renderlab) (4.4.2)\n",
            "Requirement already satisfied: tqdm<5.0,>=4.11.2 in /usr/local/lib/python3.12/dist-packages (from moviepy->renderlab) (4.67.1)\n",
            "Requirement already satisfied: requests<3.0,>=2.8.1 in /usr/local/lib/python3.12/dist-packages (from moviepy->renderlab) (2.32.4)\n",
            "Requirement already satisfied: proglog<=1.0.0 in /usr/local/lib/python3.12/dist-packages (from moviepy->renderlab) (0.1.12)\n",
            "Requirement already satisfied: imageio<3.0,>=2.5 in /usr/local/lib/python3.12/dist-packages (from moviepy->renderlab) (2.37.0)\n",
            "Requirement already satisfied: imageio-ffmpeg>=0.2.0 in /usr/local/lib/python3.12/dist-packages (from moviepy->renderlab) (0.6.0)\n",
            "Requirement already satisfied: pillow>=8.3.2 in /usr/local/lib/python3.12/dist-packages (from imageio<3.0,>=2.5->moviepy->renderlab) (11.3.0)\n",
            "Requirement already satisfied: charset_normalizer<4,>=2 in /usr/local/lib/python3.12/dist-packages (from requests<3.0,>=2.8.1->moviepy->renderlab) (3.4.3)\n",
            "Requirement already satisfied: idna<4,>=2.5 in /usr/local/lib/python3.12/dist-packages (from requests<3.0,>=2.8.1->moviepy->renderlab) (3.10)\n",
            "Requirement already satisfied: urllib3<3,>=1.21.1 in /usr/local/lib/python3.12/dist-packages (from requests<3.0,>=2.8.1->moviepy->renderlab) (2.5.0)\n",
            "Requirement already satisfied: certifi>=2017.4.17 in /usr/local/lib/python3.12/dist-packages (from requests<3.0,>=2.8.1->moviepy->renderlab) (2025.10.5)\n",
            "Downloading renderlab-0.1.20230421184216-py3-none-any.whl (4.0 kB)\n",
            "Installing collected packages: renderlab\n",
            "Successfully installed renderlab-0.1.20230421184216\n",
            "Collecting stable-baselines3[extra]\n",
            "  Downloading stable_baselines3-2.7.0-py3-none-any.whl.metadata (4.8 kB)\n",
            "Requirement already satisfied: gymnasium<1.3.0,>=0.29.1 in /usr/local/lib/python3.12/dist-packages (from stable-baselines3[extra]) (1.2.1)\n",
            "Requirement already satisfied: numpy<3.0,>=1.20 in /usr/local/lib/python3.12/dist-packages (from stable-baselines3[extra]) (2.0.2)\n",
            "Requirement already satisfied: torch<3.0,>=2.3 in /usr/local/lib/python3.12/dist-packages (from stable-baselines3[extra]) (2.8.0+cu126)\n",
            "Requirement already satisfied: cloudpickle in /usr/local/lib/python3.12/dist-packages (from stable-baselines3[extra]) (3.1.1)\n",
            "Requirement already satisfied: pandas in /usr/local/lib/python3.12/dist-packages (from stable-baselines3[extra]) (2.2.2)\n",
            "Requirement already satisfied: matplotlib in /usr/local/lib/python3.12/dist-packages (from stable-baselines3[extra]) (3.10.0)\n",
            "Requirement already satisfied: opencv-python in /usr/local/lib/python3.12/dist-packages (from stable-baselines3[extra]) (4.12.0.88)\n",
            "Requirement already satisfied: pygame in /usr/local/lib/python3.12/dist-packages (from stable-baselines3[extra]) (2.6.1)\n",
            "Requirement already satisfied: tensorboard>=2.9.1 in /usr/local/lib/python3.12/dist-packages (from stable-baselines3[extra]) (2.19.0)\n",
            "Requirement already satisfied: psutil in /usr/local/lib/python3.12/dist-packages (from stable-baselines3[extra]) (5.9.5)\n",
            "Requirement already satisfied: tqdm in /usr/local/lib/python3.12/dist-packages (from stable-baselines3[extra]) (4.67.1)\n",
            "Requirement already satisfied: rich in /usr/local/lib/python3.12/dist-packages (from stable-baselines3[extra]) (13.9.4)\n",
            "Requirement already satisfied: ale-py>=0.9.0 in /usr/local/lib/python3.12/dist-packages (from stable-baselines3[extra]) (0.11.2)\n",
            "Requirement already satisfied: pillow in /usr/local/lib/python3.12/dist-packages (from stable-baselines3[extra]) (11.3.0)\n",
            "Requirement already satisfied: typing-extensions>=4.3.0 in /usr/local/lib/python3.12/dist-packages (from gymnasium<1.3.0,>=0.29.1->stable-baselines3[extra]) (4.15.0)\n",
            "Requirement already satisfied: farama-notifications>=0.0.1 in /usr/local/lib/python3.12/dist-packages (from gymnasium<1.3.0,>=0.29.1->stable-baselines3[extra]) (0.0.4)\n",
            "Requirement already satisfied: absl-py>=0.4 in /usr/local/lib/python3.12/dist-packages (from tensorboard>=2.9.1->stable-baselines3[extra]) (1.4.0)\n",
            "Requirement already satisfied: grpcio>=1.48.2 in /usr/local/lib/python3.12/dist-packages (from tensorboard>=2.9.1->stable-baselines3[extra]) (1.75.1)\n",
            "Requirement already satisfied: markdown>=2.6.8 in /usr/local/lib/python3.12/dist-packages (from tensorboard>=2.9.1->stable-baselines3[extra]) (3.9)\n",
            "Requirement already satisfied: packaging in /usr/local/lib/python3.12/dist-packages (from tensorboard>=2.9.1->stable-baselines3[extra]) (25.0)\n",
            "Requirement already satisfied: protobuf!=4.24.0,>=3.19.6 in /usr/local/lib/python3.12/dist-packages (from tensorboard>=2.9.1->stable-baselines3[extra]) (5.29.5)\n",
            "Requirement already satisfied: setuptools>=41.0.0 in /usr/local/lib/python3.12/dist-packages (from tensorboard>=2.9.1->stable-baselines3[extra]) (75.2.0)\n",
            "Requirement already satisfied: six>1.9 in /usr/local/lib/python3.12/dist-packages (from tensorboard>=2.9.1->stable-baselines3[extra]) (1.17.0)\n",
            "Requirement already satisfied: tensorboard-data-server<0.8.0,>=0.7.0 in /usr/local/lib/python3.12/dist-packages (from tensorboard>=2.9.1->stable-baselines3[extra]) (0.7.2)\n",
            "Requirement already satisfied: werkzeug>=1.0.1 in /usr/local/lib/python3.12/dist-packages (from tensorboard>=2.9.1->stable-baselines3[extra]) (3.1.3)\n",
            "Requirement already satisfied: filelock in /usr/local/lib/python3.12/dist-packages (from torch<3.0,>=2.3->stable-baselines3[extra]) (3.20.0)\n",
            "Requirement already satisfied: sympy>=1.13.3 in /usr/local/lib/python3.12/dist-packages (from torch<3.0,>=2.3->stable-baselines3[extra]) (1.13.3)\n",
            "Requirement already satisfied: networkx in /usr/local/lib/python3.12/dist-packages (from torch<3.0,>=2.3->stable-baselines3[extra]) (3.5)\n",
            "Requirement already satisfied: jinja2 in /usr/local/lib/python3.12/dist-packages (from torch<3.0,>=2.3->stable-baselines3[extra]) (3.1.6)\n",
            "Requirement already satisfied: fsspec in /usr/local/lib/python3.12/dist-packages (from torch<3.0,>=2.3->stable-baselines3[extra]) (2025.3.0)\n",
            "Requirement already satisfied: nvidia-cuda-nvrtc-cu12==12.6.77 in /usr/local/lib/python3.12/dist-packages (from torch<3.0,>=2.3->stable-baselines3[extra]) (12.6.77)\n",
            "Requirement already satisfied: nvidia-cuda-runtime-cu12==12.6.77 in /usr/local/lib/python3.12/dist-packages (from torch<3.0,>=2.3->stable-baselines3[extra]) (12.6.77)\n",
            "Requirement already satisfied: nvidia-cuda-cupti-cu12==12.6.80 in /usr/local/lib/python3.12/dist-packages (from torch<3.0,>=2.3->stable-baselines3[extra]) (12.6.80)\n",
            "Requirement already satisfied: nvidia-cudnn-cu12==9.10.2.21 in /usr/local/lib/python3.12/dist-packages (from torch<3.0,>=2.3->stable-baselines3[extra]) (9.10.2.21)\n",
            "Requirement already satisfied: nvidia-cublas-cu12==12.6.4.1 in /usr/local/lib/python3.12/dist-packages (from torch<3.0,>=2.3->stable-baselines3[extra]) (12.6.4.1)\n",
            "Requirement already satisfied: nvidia-cufft-cu12==11.3.0.4 in /usr/local/lib/python3.12/dist-packages (from torch<3.0,>=2.3->stable-baselines3[extra]) (11.3.0.4)\n",
            "Requirement already satisfied: nvidia-curand-cu12==10.3.7.77 in /usr/local/lib/python3.12/dist-packages (from torch<3.0,>=2.3->stable-baselines3[extra]) (10.3.7.77)\n",
            "Requirement already satisfied: nvidia-cusolver-cu12==11.7.1.2 in /usr/local/lib/python3.12/dist-packages (from torch<3.0,>=2.3->stable-baselines3[extra]) (11.7.1.2)\n",
            "Requirement already satisfied: nvidia-cusparse-cu12==12.5.4.2 in /usr/local/lib/python3.12/dist-packages (from torch<3.0,>=2.3->stable-baselines3[extra]) (12.5.4.2)\n",
            "Requirement already satisfied: nvidia-cusparselt-cu12==0.7.1 in /usr/local/lib/python3.12/dist-packages (from torch<3.0,>=2.3->stable-baselines3[extra]) (0.7.1)\n",
            "Requirement already satisfied: nvidia-nccl-cu12==2.27.3 in /usr/local/lib/python3.12/dist-packages (from torch<3.0,>=2.3->stable-baselines3[extra]) (2.27.3)\n",
            "Requirement already satisfied: nvidia-nvtx-cu12==12.6.77 in /usr/local/lib/python3.12/dist-packages (from torch<3.0,>=2.3->stable-baselines3[extra]) (12.6.77)\n",
            "Requirement already satisfied: nvidia-nvjitlink-cu12==12.6.85 in /usr/local/lib/python3.12/dist-packages (from torch<3.0,>=2.3->stable-baselines3[extra]) (12.6.85)\n",
            "Requirement already satisfied: nvidia-cufile-cu12==1.11.1.6 in /usr/local/lib/python3.12/dist-packages (from torch<3.0,>=2.3->stable-baselines3[extra]) (1.11.1.6)\n",
            "Requirement already satisfied: triton==3.4.0 in /usr/local/lib/python3.12/dist-packages (from torch<3.0,>=2.3->stable-baselines3[extra]) (3.4.0)\n",
            "Requirement already satisfied: contourpy>=1.0.1 in /usr/local/lib/python3.12/dist-packages (from matplotlib->stable-baselines3[extra]) (1.3.3)\n",
            "Requirement already satisfied: cycler>=0.10 in /usr/local/lib/python3.12/dist-packages (from matplotlib->stable-baselines3[extra]) (0.12.1)\n",
            "Requirement already satisfied: fonttools>=4.22.0 in /usr/local/lib/python3.12/dist-packages (from matplotlib->stable-baselines3[extra]) (4.60.1)\n",
            "Requirement already satisfied: kiwisolver>=1.3.1 in /usr/local/lib/python3.12/dist-packages (from matplotlib->stable-baselines3[extra]) (1.4.9)\n",
            "Requirement already satisfied: pyparsing>=2.3.1 in /usr/local/lib/python3.12/dist-packages (from matplotlib->stable-baselines3[extra]) (3.2.5)\n",
            "Requirement already satisfied: python-dateutil>=2.7 in /usr/local/lib/python3.12/dist-packages (from matplotlib->stable-baselines3[extra]) (2.9.0.post0)\n",
            "Requirement already satisfied: pytz>=2020.1 in /usr/local/lib/python3.12/dist-packages (from pandas->stable-baselines3[extra]) (2025.2)\n",
            "Requirement already satisfied: tzdata>=2022.7 in /usr/local/lib/python3.12/dist-packages (from pandas->stable-baselines3[extra]) (2025.2)\n",
            "Requirement already satisfied: markdown-it-py>=2.2.0 in /usr/local/lib/python3.12/dist-packages (from rich->stable-baselines3[extra]) (4.0.0)\n",
            "Requirement already satisfied: pygments<3.0.0,>=2.13.0 in /usr/local/lib/python3.12/dist-packages (from rich->stable-baselines3[extra]) (2.19.2)\n",
            "Requirement already satisfied: mdurl~=0.1 in /usr/local/lib/python3.12/dist-packages (from markdown-it-py>=2.2.0->rich->stable-baselines3[extra]) (0.1.2)\n",
            "Requirement already satisfied: mpmath<1.4,>=1.1.0 in /usr/local/lib/python3.12/dist-packages (from sympy>=1.13.3->torch<3.0,>=2.3->stable-baselines3[extra]) (1.3.0)\n",
            "Requirement already satisfied: MarkupSafe>=2.1.1 in /usr/local/lib/python3.12/dist-packages (from werkzeug>=1.0.1->tensorboard>=2.9.1->stable-baselines3[extra]) (3.0.3)\n",
            "Downloading stable_baselines3-2.7.0-py3-none-any.whl (187 kB)\n",
            "\u001b[2K   \u001b[90m━━━━━━━━━━━━━━━━━━━━━━━━━━━━━━━━━━━━━━━━\u001b[0m \u001b[32m187.2/187.2 kB\u001b[0m \u001b[31m13.9 MB/s\u001b[0m eta \u001b[36m0:00:00\u001b[0m\n",
            "\u001b[?25hInstalling collected packages: stable-baselines3\n",
            "Successfully installed stable-baselines3-2.7.0\n"
          ]
        }
      ],
      "source": [
        "!pip install gymnasium\n",
        "!pip install renderlab  #For rendering\n",
        "!pip install stable-baselines3[extra]"
      ]
    },
    {
      "cell_type": "code",
      "execution_count": null,
      "metadata": {
        "id": "4_mU9TNfvE3D",
        "outputId": "7174b438-8fc4-4204-f3d2-47abeaaf9c6d",
        "colab": {
          "base_uri": "https://localhost:8080/"
        }
      },
      "outputs": [
        {
          "output_type": "stream",
          "name": "stderr",
          "text": [
            "/usr/local/lib/python3.12/dist-packages/moviepy/config_defaults.py:47: SyntaxWarning: invalid escape sequence '\\P'\n",
            "  IMAGEMAGICK_BINARY = r\"C:\\Program Files\\ImageMagick-6.8.8-Q16\\magick.exe\"\n",
            "/usr/local/lib/python3.12/dist-packages/moviepy/video/io/ffmpeg_reader.py:294: SyntaxWarning: invalid escape sequence '\\d'\n",
            "  lines_video = [l for l in lines if ' Video: ' in l and re.search('\\d+x\\d+', l)]\n",
            "/usr/local/lib/python3.12/dist-packages/moviepy/video/io/ffmpeg_reader.py:367: SyntaxWarning: invalid escape sequence '\\d'\n",
            "  rotation_lines = [l for l in lines if 'rotate          :' in l and re.search('\\d+$', l)]\n",
            "/usr/local/lib/python3.12/dist-packages/moviepy/video/io/ffmpeg_reader.py:370: SyntaxWarning: invalid escape sequence '\\d'\n",
            "  match = re.search('\\d+$', rotation_line)\n",
            "WARNING:py.warnings:/usr/local/lib/python3.12/dist-packages/moviepy/video/io/sliders.py:61: SyntaxWarning: \"is\" with 'str' literal. Did you mean \"==\"?\n",
            "  if event.key is 'enter':\n",
            "\n",
            "Gym has been unmaintained since 2022 and does not support NumPy 2.0 amongst other critical functionality.\n",
            "Please upgrade to Gymnasium, the maintained drop-in replacement of Gym, or contact the authors of your software and request that they upgrade.\n",
            "See the migration guide at https://gymnasium.farama.org/introduction/migration_guide/ for additional information.\n",
            "WARNING:py.warnings:/usr/local/lib/python3.12/dist-packages/jupyter_client/session.py:203: DeprecationWarning: datetime.datetime.utcnow() is deprecated and scheduled for removal in a future version. Use timezone-aware objects to represent datetimes in UTC: datetime.datetime.now(datetime.UTC).\n",
            "  return datetime.utcnow().replace(tzinfo=utc)\n",
            "\n"
          ]
        },
        {
          "output_type": "stream",
          "name": "stdout",
          "text": [
            "1.2.1\n",
            "2.7.0\n"
          ]
        }
      ],
      "source": [
        "import gymnasium as gym\n",
        "import renderlab\n",
        "import stable_baselines3\n",
        "\n",
        "print(gym.__version__)\n",
        "print(stable_baselines3.__version__)"
      ]
    },
    {
      "cell_type": "markdown",
      "metadata": {
        "id": "_qoYv8gHvE3F"
      },
      "source": [
        "## Initializing Environments\n",
        "\n",
        "Initializing environments in Gym and is done as follows. We can find a list of available environment [here](https://gym.openai.com/envs/#classic_control)."
      ]
    },
    {
      "cell_type": "code",
      "execution_count": null,
      "metadata": {
        "id": "VTbSOamAvE3G"
      },
      "outputs": [],
      "source": [
        "env = gym.make('CartPole-v1')\n",
        "\n",
        "env_eval = gym.make('CartPole-v1', render_mode = \"rgb_array\")\n",
        "env_eval = renderlab.RenderFrame(env_eval, \"./output\")"
      ]
    },
    {
      "cell_type": "markdown",
      "metadata": {
        "id": "EUQj4xduvE3G"
      },
      "source": [
        "\"A pole is attached by an un-actuated joint to a cart, which moves along a frictionless track. The system is controlled by applying a force of +1 or -1 to the cart. The pendulum starts upright, and the goal is to prevent it from falling over. A reward of +1 is provided for every timestep that the pole remains upright. \"\n",
        "\n",
        "Cartpole Environment Decription: [https://gymnasium.farama.org/environments/classic_control/cart_pole/](https://gymnasium.farama.org/environments/classic_control/cart_pole/)\n",
        "\n",
        "Cartpole Source Code: [https://github.com/Farama-Foundation/Gymnasium/blob/main/gymnasium/envs/classic_control/cartpole.py](https://github.com/Farama-Foundation/Gymnasium/blob/main/gymnasium/envs/classic_control/cartpole.py)\n",
        "\n",
        "![Cartpole](https://cdn-images-1.medium.com/max/1143/1*h4WTQNVIsvMXJTCpXm_TAw.gif)"
      ]
    },
    {
      "cell_type": "markdown",
      "metadata": {
        "id": "OCgyoKJwvE3H"
      },
      "source": [
        "## Interacting with the Environment\n",
        "\n",
        "We run an instance of `CartPole-v1` environment for 30 timesteps, showing the information returned by the environment."
      ]
    },
    {
      "cell_type": "code",
      "execution_count": null,
      "metadata": {
        "id": "BisGya56vE3H",
        "outputId": "f3d78781-c9dd-495f-ed34-5cc8ad208f02",
        "colab": {
          "base_uri": "https://localhost:8080/"
        }
      },
      "outputs": [
        {
          "output_type": "stream",
          "name": "stderr",
          "text": [
            "WARNING:py.warnings:/usr/local/lib/python3.12/dist-packages/gymnasium/envs/classic_control/cartpole.py:214: UserWarning: \u001b[33mWARN: You are calling 'step()' even though this environment has already returned terminated = True. You should always call 'reset()' once you receive 'terminated = True' -- any further steps are undefined behavior.\u001b[0m\n",
            "  logger.warn(\n",
            "\n"
          ]
        },
        {
          "output_type": "stream",
          "name": "stdout",
          "text": [
            "Initial state:  [ 0.03106498 -0.01934686 -0.03781283 -0.00736524]\n",
            "State: [ 0.03067805 -0.2139067  -0.03796013  0.27315158] Action: 0 Reward: 1.0 Terminated: False Truncated: False\n",
            "State: [ 0.02639991 -0.01826425 -0.0324971  -0.03125829] Action: 1 Reward: 1.0 Terminated: False Truncated: False\n",
            "State: [ 0.02603463 -0.21290547 -0.03312226  0.25099692] Action: 0 Reward: 1.0 Terminated: False Truncated: False\n",
            "State: [ 0.02177652 -0.01732657 -0.02810233 -0.05194668] Action: 1 Reward: 1.0 Terminated: False Truncated: False\n",
            "State: [ 0.02142999 -0.21203452 -0.02914126  0.23173895] Action: 0 Reward: 1.0 Terminated: False Truncated: False\n",
            "State: [ 0.0171893  -0.4067282  -0.02450648  0.51508915] Action: 0 Reward: 1.0 Terminated: False Truncated: False\n",
            "State: [ 0.00905473 -0.60149664 -0.0142047   0.7999499 ] Action: 0 Reward: 1.0 Terminated: False Truncated: False\n",
            "State: [-0.0029752  -0.40618277  0.0017943   0.5028326 ] Action: 1 Reward: 1.0 Terminated: False Truncated: False\n",
            "State: [-0.01109886 -0.21108614  0.01185095  0.21071565] Action: 1 Reward: 1.0 Terminated: False Truncated: False\n",
            "State: [-0.01532058 -0.4063755   0.01606526  0.5071132 ] Action: 0 Reward: 1.0 Terminated: False Truncated: False\n",
            "State: [-0.02344809 -0.6017201   0.02620753  0.8048153 ] Action: 0 Reward: 1.0 Terminated: False Truncated: False\n",
            "State: [-0.03548249 -0.40696707  0.04230383  0.52049017] Action: 1 Reward: 1.0 Terminated: False Truncated: False\n",
            "State: [-0.04362183 -0.21246536  0.05271364  0.24143228] Action: 1 Reward: 1.0 Terminated: False Truncated: False\n",
            "State: [-0.04787114 -0.40829912  0.05754228  0.55026555] Action: 0 Reward: 1.0 Terminated: False Truncated: False\n",
            "State: [-0.05603712 -0.21403062  0.0685476   0.27625316] Action: 1 Reward: 1.0 Terminated: False Truncated: False\n",
            "State: [-0.06031773 -0.41006017  0.07407266  0.58974415] Action: 0 Reward: 1.0 Terminated: False Truncated: False\n",
            "State: [-0.06851894 -0.2160493   0.08586754  0.32128328] Action: 1 Reward: 1.0 Terminated: False Truncated: False\n",
            "State: [-0.07283992 -0.4122824   0.09229321  0.6397625 ] Action: 0 Reward: 1.0 Terminated: False Truncated: False\n",
            "State: [-0.08108557 -0.21856017  0.10508846  0.3775116 ] Action: 1 Reward: 1.0 Terminated: False Truncated: False\n",
            "State: [-0.08545677 -0.41500545  0.11263869  0.70139307] Action: 0 Reward: 1.0 Terminated: False Truncated: False\n",
            "State: [-0.09375688 -0.2216101   0.12666655  0.44618416] Action: 1 Reward: 1.0 Terminated: False Truncated: False\n",
            "State: [-0.09818909 -0.4182751   0.13559024  0.7759587 ] Action: 0 Reward: 1.0 Terminated: False Truncated: False\n",
            "State: [-0.10655459 -0.22525261  0.15110941  0.528824  ] Action: 1 Reward: 1.0 Terminated: False Truncated: False\n",
            "State: [-0.11105964 -0.4221413   0.16168588  0.8650489 ] Action: 0 Reward: 1.0 Terminated: False Truncated: False\n",
            "State: [-0.11950247 -0.22954565  0.17898686  0.62725216] Action: 1 Reward: 1.0 Terminated: False Truncated: False\n",
            "State: [-0.12409338 -0.4266546   0.19153191  0.97053385] Action: 0 Reward: 1.0 Terminated: False Truncated: False\n",
            "State: [-0.13262647 -0.62375915  0.21094258  1.3167509 ] Action: 0 Reward: 1.0 Terminated: True Truncated: False\n",
            "State: [-0.14510165 -0.43183497  0.23727761  1.0968041 ] Action: 1 Reward: 0.0 Terminated: True Truncated: False\n",
            "State: [-0.15373835 -0.62915987  0.2592137   1.4536053 ] Action: 0 Reward: 0.0 Terminated: True Truncated: False\n",
            "State: [-0.16632155 -0.8263587   0.2882858   1.8148797 ] Action: 0 Reward: 0.0 Terminated: True Truncated: False\n"
          ]
        }
      ],
      "source": [
        "state, _ = env.reset() # resets the environment in the initial state\n",
        "print(\"Initial state: \", state)\n",
        "\n",
        "for _ in range(30):\n",
        "    action = env.action_space.sample() # sample a random action\n",
        "\n",
        "    state, reward, terminated, truncated, _ = env.step(action)  # execute the action in the environment\n",
        "    print(\"State:\", state,\n",
        "          \"Action:\", action,\n",
        "          \"Reward:\", reward,\n",
        "          \"Terminated:\", terminated,\n",
        "          \"Truncated:\", truncated)\n",
        "\n",
        "env.close()"
      ]
    },
    {
      "cell_type": "markdown",
      "metadata": {
        "id": "7ikNk64jvE3H"
      },
      "source": [
        "A Gymnasium environment provides to the user mainly four methods:\n",
        "\n",
        "* `reset()`: resets the environment to its initial state $S_0 \\sim d_0$ and returns the observation corresponding to the initial state.\n",
        "\n",
        "\n",
        "* `step(action)`: takes an action $A_t$ as an input and executes the action in current state $S_t$ of the environment. This method returns a tuple of four values:\n",
        "\n",
        "    * `observation` (object): an environment-specific object representation of your observation of the environment after the action is executed. It corresponds to the observation of the next state $S_{t+1} \\sim p(\\cdot|S_t,A_t)$\n",
        "    \n",
        "    * `reward` (float): immediate reward $R_{t+1} = r(S_t,A_t)$ obtained by executing action $A_t$ in state $S_t$\n",
        "    \n",
        "    * `terminated`(boolean): whether the reached next state $S_{t+1}$ is a terminal state.\n",
        "    \n",
        "    * `truncated`(boolean): whether the trajectory has reached the maximum number of steps.**testo in grassetto**\n",
        "    \n",
        "    * `info` (dict): additional information useful for debugging and environment-specific.\n",
        "    \n",
        "    \n",
        "*  `render(method='human')`: allows visualizing the agent in action. Note that graphical interface does not work on Google Colab, so we cannot use it directly (we will need a workaround).\n",
        "\n",
        "\n",
        "*  `seed()`: sets the seed for this environment’s random number generator."
      ]
    },
    {
      "cell_type": "markdown",
      "metadata": {
        "id": "fYnUyQQDvE3H"
      },
      "source": [
        "## Observation and Action Spaces\n",
        "\n",
        "*  `observation_space`: this attribute provides the format of valid observations $\\mathcal{S}$. It is of datatype `Space` provided by Gymnasium. For example, if the observation space is of type `Box` and the shape of the object is `(4,)`, this denotes a valid observation will be an array of 4 numbers.\n",
        "\n",
        "*  `action_space`: this attribute provides the format of valid actions $\\mathcal{A}$. It is of datatype `Space` provided by Gymnasium. For example, if the action space is of type `Discrete` and gives the value `Discrete(2)`, this means there are two valid discrete actions: 0 and 1."
      ]
    },
    {
      "cell_type": "code",
      "execution_count": null,
      "metadata": {
        "id": "3V7sIG6evE3I",
        "outputId": "a727a8dc-ac86-4170-c2d9-211d2810fff9",
        "colab": {
          "base_uri": "https://localhost:8080/"
        }
      },
      "outputs": [
        {
          "output_type": "stream",
          "name": "stdout",
          "text": [
            "Box([-4.8               -inf -0.41887903        -inf], [4.8               inf 0.41887903        inf], (4,), float32)\n",
            "Discrete(2)\n",
            "[4.8               inf 0.41887903        inf]\n",
            "[-4.8               -inf -0.41887903        -inf]\n"
          ]
        }
      ],
      "source": [
        "print(env.observation_space)\n",
        "\n",
        "print(env.action_space)\n",
        "\n",
        "print(env.observation_space.high)\n",
        "\n",
        "print(env.observation_space.low)"
      ]
    },
    {
      "cell_type": "markdown",
      "metadata": {
        "id": "HtNdPfS-vE3I"
      },
      "source": [
        "`Spaces` types available in Gymnasium:\n",
        "\n",
        "*  `Box`: an $n$-dimensional compact space (i.e., a compact subset of $\\mathbb{R}^n$). The bounds of the space are contained in the `high` and `low` attributes.\n",
        "\n",
        "\n",
        "*  `Discrete`: a discrete space made of $n$ elements, where $\\{0,1,\\dots,n-1\\}$ are the possible values.\n",
        "\n",
        "\n",
        "Other `Spaces` types can be used: `Dict`, `Tuple`, `MultiBinary`, `MultiDiscrete`."
      ]
    },
    {
      "cell_type": "code",
      "execution_count": null,
      "metadata": {
        "id": "t15LJ3sxvE3I",
        "outputId": "bf579f99-63b0-4c23-ea3c-19b33b564b58",
        "colab": {
          "base_uri": "https://localhost:8080/"
        }
      },
      "outputs": [
        {
          "output_type": "stream",
          "name": "stdout",
          "text": [
            "[0.70571136 1.8420582  0.3488891 ]\n",
            "0\n"
          ]
        }
      ],
      "source": [
        "import numpy as np\n",
        "from gymnasium.spaces import Box, Discrete\n",
        "\n",
        "observation_space = Box(low=-1.0, high=2.0, shape=(3,), dtype=np.float32)\n",
        "print(observation_space.sample())\n",
        "\n",
        "observation_space = Discrete(4)\n",
        "print(observation_space.sample())"
      ]
    },
    {
      "cell_type": "markdown",
      "metadata": {
        "id": "kwoqXiGwvE3I"
      },
      "source": [
        "## Details on the Cartpole Environment\n",
        "\n",
        "From [https://github.com/Farama-Foundation/Gymnasium/blob/main/gymnasium/envs/classic_control/cartpole.py](https://github.com/Farama-Foundation/Gymnasium/blob/main/gymnasium/envs/classic_control/cartpole.py)\n",
        "\n",
        "A pole is attached by an un-actuated joint to a cart, which moves along a frictionless track. The pendulum starts upright, and the goal is to prevent it from falling over by increasing and reducing the cart's velocity.\n",
        "\n",
        "### Action Space\n",
        "The action space is `action` in $\\{0,1\\}$, where `action` is used to push the cart with a fixed amount of force:\n",
        "\n",
        "| Num | Action                 |\n",
        "|-----|------------------------|\n",
        "| 0   | Push cart to the left  |\n",
        "| 1   | Push cart to the right |\n",
        "    \n",
        "Note: The amount the velocity is reduced or increased is not fixed as it depends on the angle the pole is pointing. This is because the center of gravity of the pole increases the amount of energy needed to move the cart underneath it.\n",
        "    \n",
        "### Observation Space\n",
        "The observation is a `ndarray` with shape `(4,)` where the elements correspond to the following:\n",
        "\n",
        "| Num | Observation           | Min                  | Max                |\n",
        "|-----|-----------------------|----------------------|--------------------|\n",
        "| 0   | Cart Position         | -4.8*                | 4.8*                |\n",
        "| 1   | Cart Velocity         | -Inf                 | Inf                |\n",
        "| 2   | Pole Angle            | ~ -0.418 rad (-24°)**| ~ 0.418 rad (24°)** |\n",
        "| 3   | Pole Angular Velocity | -Inf                 | Inf                |\n",
        "\n",
        "**Note:** above denotes the ranges of possible observations for each element, but in two cases this range exceeds the range of possible values in an un-terminated episode:\n",
        "- `*`: the cart x-position can be observed between `(-4.8, 4.8)`, but an episode terminates if the cart leaves the `(-2.4, 2.4)` range.\n",
        "- `**`: Similarly, the pole angle can be observed between  `(-.418, .418)` radians or precisely **±24°**, but an episode is  terminated if the pole angle is outside the `(-.2095, .2095)` range or precisely **±12°**\n",
        "    \n",
        "### Rewards\n",
        "Reward is 1 for every step taken, including the termination step.\n",
        "\n",
        "### Starting State\n",
        "All observations are assigned a uniform random value between (-0.05, 0.05)\n",
        "\n",
        "### Episode Termination\n",
        "The episode terminates of one of the following occurs:\n",
        "1. Pole Angle is more than ±12°\n",
        "2. Cart Position is more than ±2.4 (center of the cart reaches the edge of the display)\n",
        "3. Episode length is greater than 500\n"
      ]
    },
    {
      "cell_type": "markdown",
      "metadata": {
        "id": "xKDySnoVvE3I"
      },
      "source": [
        "## Evaluation of some Simple Policies\n",
        "\n",
        "We now evaluate some policies on the cartpole.\n",
        "\n",
        "* **Uniform Policy**: uniformly random policy\n",
        "\n",
        "$$\n",
        "\\pi(a|s) = \\mathrm{Uni}(\\{0,1\\})\n",
        "$$\n",
        "\n",
        "* **Reactive Policy**: simple deterministic policy that selects the action based on the pole angle\n",
        "\n",
        "$$\n",
        "\\pi(s) = \\begin{cases}\n",
        "                0 & \\text{if Pole Angle } \\le 0 \\\\\n",
        "                1 & \\text{otherwise}\n",
        "            \\end{cases}\n",
        "$$"
      ]
    },
    {
      "cell_type": "code",
      "execution_count": null,
      "metadata": {
        "id": "eW_UAusJvE3I"
      },
      "outputs": [],
      "source": [
        "class UniformPolicy:\n",
        "\n",
        "    def predict(self, obs):\n",
        "        return np.random.randint(0, 2), obs  # return the observation to comply with stable-baselines3\n",
        "\n",
        "\n",
        "class ReactivePolicy:\n",
        "\n",
        "    def predict(self, obs):\n",
        "        if obs[2] <= 0:\n",
        "            return 0, obs\n",
        "        else:\n",
        "            return 1, obs"
      ]
    },
    {
      "cell_type": "markdown",
      "metadata": {
        "id": "mPvHvRH3vE3J"
      },
      "source": [
        "Let us create a function to evaluate the agent's performance."
      ]
    },
    {
      "cell_type": "code",
      "execution_count": null,
      "metadata": {
        "id": "gKi5PLUkvE3J"
      },
      "outputs": [],
      "source": [
        "def evaluate(env, policy, gamma=1., num_episodes=100):\n",
        "    \"\"\"\n",
        "    Evaluate a RL agent\n",
        "    :param env: (Env object) the Gym environment\n",
        "    :param policy: (BasePolicy object) the policy in stable_baselines3\n",
        "    :param gamma: (float) the discount factor\n",
        "    :param num_episodes: (int) number of episodes to evaluate it\n",
        "    :return: (float) Mean reward for the last num_episodes\n",
        "    \"\"\"\n",
        "    all_episode_rewards = []\n",
        "    for i in range(num_episodes): # iterate over the episodes\n",
        "        episode_rewards = []\n",
        "        done = False\n",
        "        discounter = 1.\n",
        "        obs, _ = env.reset()\n",
        "        while not done: # iterate over the steps until termination\n",
        "            action, _ = policy.predict(obs)\n",
        "            obs, reward, terminated, truncated, _ = env.step(action)\n",
        "            done = terminated or truncated\n",
        "            episode_rewards.append(reward * discounter) # compute discounted reward\n",
        "            discounter *= gamma\n",
        "\n",
        "        all_episode_rewards.append(sum(episode_rewards))\n",
        "\n",
        "    mean_episode_reward = np.mean(all_episode_rewards)\n",
        "    std_episode_reward = np.std(all_episode_rewards) / np.sqrt(num_episodes - 1)\n",
        "    print(\"Mean reward:\", mean_episode_reward,\n",
        "          \"Std reward:\", std_episode_reward,\n",
        "          \"Num episodes:\", num_episodes)\n",
        "\n",
        "    return mean_episode_reward, std_episode_reward"
      ]
    },
    {
      "cell_type": "markdown",
      "metadata": {
        "id": "afBSiT_tvE3J"
      },
      "source": [
        "Let us test the uniform policy."
      ]
    },
    {
      "cell_type": "code",
      "execution_count": null,
      "metadata": {
        "id": "g33tYX96vE3J",
        "outputId": "f6b29c4b-54d9-4c87-99b8-4f798d576f66",
        "colab": {
          "base_uri": "https://localhost:8080/",
          "height": 599
        }
      },
      "outputs": [
        {
          "output_type": "stream",
          "name": "stdout",
          "text": [
            "Mean reward: 21.81 Std reward: 1.2331035822040435 Num episodes: 100\n"
          ]
        },
        {
          "output_type": "stream",
          "name": "stderr",
          "text": [
            "WARNING:py.warnings:/tmp/ipython-input-1596058116.py:26: RuntimeWarning: invalid value encountered in scalar divide\n",
            "  std_episode_reward = np.std(all_episode_rewards) / np.sqrt(num_episodes - 1)\n",
            "\n"
          ]
        },
        {
          "output_type": "stream",
          "name": "stdout",
          "text": [
            "Mean reward: 14.0 Std reward: nan Num episodes: 1\n",
            "Moviepy - Building video temp-{start}.mp4.\n",
            "Moviepy - Writing video temp-{start}.mp4\n",
            "\n"
          ]
        },
        {
          "output_type": "stream",
          "name": "stderr",
          "text": [
            "                                                   "
          ]
        },
        {
          "output_type": "stream",
          "name": "stdout",
          "text": [
            "Moviepy - Done !\n",
            "Moviepy - video ready temp-{start}.mp4\n"
          ]
        },
        {
          "output_type": "stream",
          "name": "stderr",
          "text": [
            "\r"
          ]
        },
        {
          "output_type": "display_data",
          "data": {
            "text/plain": [
              "<IPython.core.display.Video object>"
            ],
            "text/html": [
              "<video controls  >\n",
              " <source src=\"data:video/mp4;base64,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\" type=\"video/mp4\">\n",
              " Your browser does not support the video tag.\n",
              " </video>"
            ]
          },
          "metadata": {}
        }
      ],
      "source": [
        "uniform_policy = UniformPolicy()\n",
        "\n",
        "uniform_policy_mean, uniform_policy_std = evaluate(env, uniform_policy)\n",
        "\n",
        "_, _ = evaluate(env_eval, uniform_policy, num_episodes=1)\n",
        "env_eval.play()"
      ]
    },
    {
      "cell_type": "markdown",
      "metadata": {
        "id": "cf3hyxHavE3K"
      },
      "source": [
        "Let us test the reactive policy."
      ]
    },
    {
      "cell_type": "code",
      "execution_count": null,
      "metadata": {
        "id": "bpsJqDB2vE3K",
        "outputId": "784de215-f993-47c3-c34b-8c138171b42d",
        "colab": {
          "base_uri": "https://localhost:8080/",
          "height": 673
        }
      },
      "outputs": [
        {
          "output_type": "stream",
          "name": "stderr",
          "text": [
            "WARNING:py.warnings:/tmp/ipython-input-1596058116.py:26: RuntimeWarning: invalid value encountered in scalar divide\n",
            "  std_episode_reward = np.std(all_episode_rewards) / np.sqrt(num_episodes - 1)\n",
            "\n"
          ]
        },
        {
          "output_type": "stream",
          "name": "stdout",
          "text": [
            "Mean reward: 43.64 Std reward: 0.9330648964622456 Num episodes: 100\n",
            "Mean reward: 34.0 Std reward: nan Num episodes: 1\n",
            "Moviepy - Building video temp-{start}.mp4.\n",
            "Moviepy - Writing video temp-{start}.mp4\n",
            "\n"
          ]
        },
        {
          "output_type": "stream",
          "name": "stderr",
          "text": [
            "\rt:   0%|          | 0/36 [00:00<?, ?it/s, now=None]WARNING:py.warnings:/usr/local/lib/python3.12/dist-packages/moviepy/video/io/ffmpeg_reader.py:123: UserWarning: Warning: in file ./output/1760597263.1913602.mp4, 720000 bytes wanted but 0 bytes read,at frame 35/36, at time 1.17/1.17 sec. Using the last valid frame instead.\n",
            "  warnings.warn(\"Warning: in file %s, \"%(self.filename)+\n",
            "\n"
          ]
        },
        {
          "output_type": "stream",
          "name": "stdout",
          "text": [
            "Moviepy - Done !\n",
            "Moviepy - video ready temp-{start}.mp4\n"
          ]
        },
        {
          "output_type": "display_data",
          "data": {
            "text/plain": [
              "<IPython.core.display.Video object>"
            ],
            "text/html": [
              "<video controls  >\n",
              " <source src=\"data:video/mp4;base64,AAAAIGZ0eXBpc29tAAACAGlzb21pc28yYXZjMW1wNDEAAAAIZnJlZQAAE15tZGF0AAACrgYF//+q3EXpvebZSLeWLNgg2SPu73gyNjQgLSBjb3JlIDE2NCByMzE5MSA0NjEzYWMzIC0gSC4yNjQvTVBFRy00IEFWQyBjb2RlYyAtIENvcHlsZWZ0IDIwMDMtMjAyNCAtIGh0dHA6Ly93d3cudmlkZW9sYW4ub3JnL3gyNjQuaHRtbCAtIG9wdGlvbnM6IGNhYmFjPTEgcmVmPTMgZGVibG9jaz0xOjA6MCBhbmFseXNlPTB4MzoweDExMyBtZT1oZXggc3VibWU9NyBwc3k9MSBwc3lfcmQ9MS4wMDowLjAwIG1peGVkX3JlZj0xIG1lX3JhbmdlPTE2IGNocm9tYV9tZT0xIHRyZWxsaXM9MSA4eDhkY3Q9MSBjcW09MCBkZWFkem9uZT0yMSwxMSBmYXN0X3Bza2lwPTEgY2hyb21hX3FwX29mZnNldD0tMiB0aHJlYWRzPTMgbG9va2FoZWFkX3RocmVhZHM9MSBzbGljZWRfdGhyZWFkcz0wIG5yPTAgZGVjaW1hdGU9MSBpbnRlcmxhY2VkPTAgYmx1cmF5X2NvbXBhdD0wIGNvbnN0cmFpbmVkX2ludHJhPTAgYmZyYW1lcz0zIGJfcHlyYW1pZD0yIGJfYWRhcHQ9MSBiX2JpYXM9MCBkaXJlY3Q9MSB3ZWlnaHRiPTEgb3Blbl9nb3A9MCB3ZWlnaHRwPTIga2V5aW50PTI1MCBrZXlpbnRfbWluPTI1IHNjZW5lY3V0PTQwIGludHJhX3JlZnJlc2g9MCByY19sb29rYWhlYWQ9NDAgcmM9Y3JmIG1idHJlZT0xIGNyZj0yMy4wIHFjb21wPTAuNjAgcXBtaW49MCBxcG1heD02OSBxcHN0ZXA9NCBpcF9yYXRpbz0xLjQwIGFxPTE6MS4wMACAAAAB9mWIhAAr//7Y5/Msq1xA0DVUuHVl7uFSgaMoZ2nkvUzAAAADAAADAABo/Ot9/srZ0dc2TAAAAwIUAF6DPCjCvjqEhH2OkMnA2NegE8EOqXPJKwnysExG/NYlOluyx+MvIPsxcOFTjXyrTLkpfxs5yo6TSzb069As7kLEZfKdfcUAgdscGhd/6YH15WxsO9UhB/n3H1Hsf0ROLNosiADRycwhiow1rvXIdPpFcNcAwP+cVUD/Cp6zhips4sYM3xKBR17mAVZW17PvpUFBOYXI3SAr+IzPjIEmo65xfexxxZrodoTRv9EBGO0e/7IZZv7sTYlI2U75yGqosAUfkQdyTG+QzqnLHGcjdMSAKlziKHmYk1LUAzrC86QJxVITxsTCjmJIeu6ab3KGGxlMASySP+a7a7btGTaZOwIRgchA9ewIMAqapcQ8FmxjYMfXm/xa9um6Ku20mEbGjFJpqJLVfSCoDeFUHe3UUTGljBTFay+KBl4vuZJlIAs3HBxj83UbTmIRg8IYJApBeV5CGofrH48mNVJvXObryIqLmVYnrILOO+49SGfBLcjNcRxP+Q2GuRyKimDIA1dBjMg5Lv2+RWBcsLxoIfg8i+C7IL/mMRvZtCiUmRc8iaAk6rQbW0af56E0mf78S4oQCaoJsqAAQ4AAAAMAPuEAAACCQZokbEK//jhAAAENGluhTI3W/GQD/1uYOpq2E/CHkMJxchQNGGwBi9YA8tvGroXIk/IUxzPHeR/Uv9PFznOzkEI7YP/nu4T0bWzuAxuWD50/6j0pQVz7ydDaA04cIB4bgELxhAb+J1ogv6tp3k7webfgG9AB1sYjxXv4mhxuG06WlQAAAC5BnkJ4j/8AACPDF2ipwBLawSNfud7kAJRFTAgM6dQGO0CJ6QAUVhh8xRWDtvr5AAAAFAGeYXRG/wAABm8gbMVICQSSOs5gAAAALAGeY2pG/wAALWVhg2NKbDQBOzFIcPp1PJoKYqGBa6ZGUnyffuYJPb+nHHhxAAAA4UGaZUmoQWiZTAhX//44QAABDPod8XtAPvimylao1XYgzJ3F9RJ/pDn9DLFkRs11S8cgzXu7qfKT5+VI23oDnCXz0Ce6KPqWdHZIS/yXS0Raf5KC8Pz4DrHFWcuMEi8jFrLkKYXLaoxfQpXAzDjyP9KefOshszCCVbw9OixcDXu6yqlsnVMj7eU5LrmaGPW0xvbvrdeZxpMpn58JFPnVnInCoqH1qv8h1RpSr4MLrvzSupBfSXEZSkAutjLzaOonoq2ZRR8UnV5MW81gWrxlTWGuj+RpT7bZ2oqojcg/iIlb4QAAAKxBmolJ4QpSZTAhX/44QAABDPaNPlgFJO7dkkY5ySc+a/ukaslz1R/qHQ+8gX/jHLMFf8+2i2YcutlAdd8CQEgjQSiDe5sSqO6wldiTQXsWpgDxnx5BxFS+sHYTGZiT0+e+/5ggW6hOtfYP6fIxFrCZJV6fZoVFUO1m8IS4YGf4vg8q7yVbYc+LBX68axrAWTdzZR6OuQzdU6VJM1S/LhjtL9EEf38yXgI1dUOBAAAASEGep0U0TH8AACOuXVTh23lC9PzoA2Srd7NV28gutK87kC0PUSaAaCtrA8qozSWHajcfYJ620sRgNi/IIhNpW6eO0quvNFnhiQAAAD4BnsZ0Rv8AAC16GDvWAWP4HlkghTQoY214qjqPq9eY4BT+2o0owwIH9ioH873pSvFF1eT9l+RYDIiYPNErKAAAACMBnshqRv8AAC1lYWZ0ERTKhwj6RPVaerJpbVkcPgnT2N+QjwAAAK1Bms1JqEFomUwIV//+OEAAAQ1Pl9KAgBX3TGysKR2zzys8AfcL2zFzrPUdf+DbbzfDTrWxjcWm6Xs2Fmcsihp2KULiMlQtmmVNCRU4+IreVLAp9rgCoRCrftOK5twP9+kNY9Q+oWsJuGAU9XisHUs0FDiDtvzvn42AoldU5/iN7IRNaCS34rs3yv372NE6sIztTlf9RftYLx10lt02XvDSgOhwWCKCYYXuI79Y/QAAAFBBnutFESx/AAAjwjiRA1kl9VlyYc3vyMDyojWqeZDoL+zSmLdpr9YoGAYsF+rcxToNSn6cAIG9wRkf35xbzJLYOK5LkZOkWITJyI52Et4WUAAAADEBnwp0Rv8AAC196Z4nT6YrF3CnOOgOg0aagSOZjI63y85mgGa8SoAWHVn8OHhwGpQcAAAAQgGfDGpG/wAALWVhVB4JCcujg63ZigAcpGceJRVzQcIAhBZjYgCh3iIpz/rvAlWScxEAq1hb75CNr53f99vsHUmTgQAAAM9Bmw9JqEFsmUwUTCv//jhAAAEM9pueqB6N8Y19//JAAnj7/yjOFXJpp2u1SsVJBXu+AtyechuA15Jz2JPAXu919/cyvznICNUVUKURUu5eiprtTzWSPsjtr1VF5kfv2U2A9902PBdFqkl/TfntpZcs6qjAkrKGiZWJx9XRWdCppCiRmmhc2Z25bTC7CP+A3LBBqo2w4n10DhRwkCcfNvgpPz3aFrtz1i4LmNADVqIw8nd7lWCtbEGBe283aCXV4xffRNSbmbe9dno8mzav1hEAAAA8AZ8uakb/AAAtYFfUqUklPVI25rFiFZc7GIAuoLusnSpuqBbnLR02GiZI//QP7aLIcHhYI+xudHlw+mSHAAAA0UGbMUnhClJlMFLCv/44QAABDPrd/wLrwDUPU7zH9om9RCIYPXpI7e0B5bdgv0NuC2+W2BIMgtcbC1rbixpE5g3T+Nu+HSbhrIQkPT7aPwZcoZAGBvLnL9wb+BmDjo6+xxZqBgTKz2n7NcBVLT2fYlSwT/AVlS/NFEEIEfgTewDH2eD5QqkYCpkbY2b4U+v6lw2mmiQ1vcGOhzIvul32tFBTrOBMrUxcydrvrrd93uFRvYF6VpOvZsMLgOhi573GWx5gtxX15pKtmi8q808DtHilAAAASgGfUGpG/wAALWVhXuVNDQ3d+Qyif8VKIePiXtgRCGOqDF95jomvJxS1i2iH93c9SX0BeQkbj7agBa7UWz7PIKa87a4mT0ufaDw4AAAAx0GbU0nhDomUwUTCv/44QAABDVQ+MFtuXGJ53g4GPT/aOwxHD6Trvvyjj+CzRbzssE1rDVApF86qRDfV4P5pstqGDwTExsXSIJF1WXZ6EM34L9Wj8bA9p3H05e7v/9/xxQh5cxF1alXJrD/ib70Fp5WpCyGWtmphvgQRiiyEo7mNIToJDWM7skcCboaJO+HPfpP+yGnO025o5fQ9l2bIyAziS/2kFC5k1UWPeOPIgxkuh/Xy+WIHjYNq05UrVLC8WLos8aUiucEAAAA9AZ9yakb/AAAtZZZwb0KPQMmf5iX7/SraKlV8Aqs7MGz2jE/rgtsjxn0TJb+H9rMTSEmFI7BEp7jPz/z/MAAAAGFBm3dJ4Q8mUwIV//44QAAAJqU+1t8yu1QN9RXlPe8j6I4u/9Z0Kb0N1kBajUAItVWsSVrCVMUjImPbCEv6mIdBaZVHdNTcCKwcb8r0ObswJtYG+4CGTmoBcZrxrJlMSiVBAAAARUGflUURPH8AAA2Fk+zNYZJ0OyyKmkZ6TLBrJYc2Rxc0/i693P45OjTPx6z5ueRyLeAK04svfwfa3jsKt481aqEHGC+9wQAAAC0Bn7R0Rv8AAAZHIKg3mVC3X6eQg/H3NoS+vBbY1h3X628WpQ8p6IHadiWZWXAAAAAvAZ+2akb/AAAQ4PWiiQEARlJXP6SZlBBv82daQYSjf9OhJNVUfgI+SDfQdvZQ/pEAAACPQZu7SahBaJlMCEf//eEAAAQWjjCfr7osvQCwcIeuvHq4AY914B7o4PrQJfYiVi1RajFUzztGU/XLO0qlYytNwywhwgdcgiZtC4ViCVg4swH/9gFTDC2PKNkn8/5W9cl3VZ1susXWCjYzsRUslooHbjlu77NRMaQT1qi88yMeHfahhwScBJKH6dGJZ+WCqLEAAABjQZ/ZRREsfwAAI65dHQ5aFl0SDcVNgkXu6IUt8PjxnTlObTqtmgjbWtyJzz45JjnLocUF8pWpNBke//3jSgBGcQt9rNVg64lRMcmI/HGQi5NZS7uxmQy0GyJ3gTK6awHDzkaYAAAAPgGf+HRG/wAALX2kDLw0tPK18ZK9EaITfFUJzYe8ilE6KdBbIujG1pVkJ6b89XBtvTRAAOPuTjJ050hhGGm/AAAARwGf+mpG/wAALXjFIQox+WE7EQHMQP7Vqw2b4vgVp2YDTMYmmaYemrIo+VD0RQZxLStyEd4yjHlxWAAcX15sSicctl0HG/vgAAAAXEGb/EmoQWyZTAhP//3xAAADAqDV4okKdVIC99kAIS48YAmWm3qBI2PDigRuUS5nFV2WOLZ9gsmnXOKPh/Am/YDJmZZkW6DsYR2b3E+WjqOgU4yYl3+UauMePm5BAAAAukGaHUnhClJlMCE//fEAAAMCnwe1Fh7DxGAK0o3tZxW4m8xrPDVCAc4tsy5CjPGJtd7u2qRRtFKTsGyyij/zrScTifm55lhKdKS2WMmdTJtLA8yhK1GNIKH3k/cuQN+DcXYNXlyAKdWqAgrtRY5w98ro17LoAm+Sa+k8p0se97/bd5ztI7ccu7aGc9yj+mUFFLN2alT+cC14kRAwSu08Oayzr10rvdzLxXPdjHhvCErKMUJxKKU8YcR+ywAAALBBmj5J4Q6JlMCE//3xAAADAp+6qolf3lSwSwtyTgBHWm8tfGZ10xrybd8Yzs8PgX43+MrEGD6gpwCAq+yyeDxim7Bca2aXKkfKOAdLbVicDABJ7lpWfatqtLuHc3f2YnqEQ93v/fP2Z3tEbRv+S3Y2zXJZ1+yQ0pAIgH5Dyd9+BoQKFJa5sjoEWupC3krrHqTU0vv4NXmxHdmW49OzCehHm83/MzeuKjAHSyC4yij8cAAAAMFBmkBJ4Q8mUwURPCP//eEAAAQTXVSLtFnWj+oAC1IegUq4LtpMbFRezXtjLQhw3tXIvypYMYyx1s8bornsTyGW0B1asGuoCPzYnJnZ9MOkm2ZMCNPeEUghEW0F7bk6tEtL8fpI3Q9y4mNQHM1VyoVqjU83FgsduhGS6qmZjC/1QhavXuE55qFZOnoHr9tpvyDQaoP8nNG03vv8nnoHdl1xI+CufmXLw8ZZk+gqoRROZz2Yis70DbgPyxJGdNag0YS7AAAAWwGef2pG/wAALXa0xTm7dt1RsV3RW6eXRkkbqC0XOm39TIiKrC/v800CAgsOBg2HazqsZFes/B1/4vQUUjDYkQABukb4TlByF+TKAM02vEr9RBDj66fvMKTOPOEAAAB8QZphSeEPJlMCEf/94QAABBIBgEQJALJZEqS4ET0XzSj3WQVUcpIlo4ogJwNySVinwQj1WJarw7JEZsDhnbxHzzyjWCjn2P15YIJEfDltcKUG7abtwqDOlQzDFM6obXgC2YlBTrHeI3VM5fH8fW/M3GHw/+4A1FjrOyDzzAAAAGhBmoNJ4Q8mUwURPG/6WAAAHy3ZWrKbJlVu0Bz50fpkALMFzCPuGEfqxbEC/12pu5Y+fO5ovtNnzfpyx2PBSuTQkrPxizqIsBYrnWqM7SkEQ9ddfDTm+xdJ2GDw9NbYZm94NwI85JeRSQAAAB8BnqJqRv8AAC1lYakXEplIX2/E5vsljFKxNZDME/V5AAAEym1vb3YAAABsbXZoZAAAAAAAAAAAAAAAAAAAA+gAAASwAAEAAAEAAAAAAAAAAAAAAAABAAAAAAAAAAAAAAAAAAAAAQAAAAAAAAAAAAAAAAAAQAAAAAAAAAAAAAAAAAAAAAAAAAAAAAAAAAAAAAAAAAIAAAP1dHJhawAAAFx0a2hkAAAAAwAAAAAAAAAAAAAAAQAAAAAAAASwAAAAAAAAAAAAAAAAAAAAAAABAAAAAAAAAAAAAAAAAAAAAQAAAAAAAAAAAAAAAAAAQAAAAAJYAAABkAAAAAAAJGVkdHMAAAAcZWxzdAAAAAAAAAABAAAEsAAABAAAAQAAAAADbW1kaWEAAAAgbWRoZAAAAAAAAAAAAAAAAAAAPAAAAEgAVcQAAAAAAC1oZGxyAAAAAAAAAAB2aWRlAAAAAAAAAAAAAAAAVmlkZW9IYW5kbGVyAAAAAxhtaW5mAAAAFHZtaGQAAAABAAAAAAAAAAAAAAAkZGluZgAAABxkcmVmAAAAAAAAAAEAAAAMdXJsIAAAAAEAAALYc3RibAAAALBzdHNkAAAAAAAAAAEAAACgYXZjMQAAAAAAAAABAAAAAAAAAAAAAAAAAAAAAAJYAZAASAAAAEgAAAAAAAAAARRMYXZjNjEuMy4xMDAgbGlieDI2NAAAAAAAAAAAAAAAABj//wAAADZhdmNDAWQAHv/hABlnZAAerNlAmDPl4QAAAwABAAADADwPFi2WAQAGaOvjyyLA/fj4AAAAABRidHJ0AAAAAAAAgOgAAIDoAAAAGHN0dHMAAAAAAAAAAQAAACQAAAIAAAAAFHN0c3MAAAAAAAAAAQAAAAEAAAEgY3R0cwAAAAAAAAAiAAAAAQAABAAAAAABAAAKAAAAAAEAAAQAAAAAAQAAAAAAAAABAAACAAAAAAEAAAQAAAAAAQAACgAAAAABAAAEAAAAAAEAAAAAAAAAAQAAAgAAAAABAAAKAAAAAAEAAAQAAAAAAQAAAAAAAAABAAACAAAAAAEAAAYAAAAAAQAAAgAAAAABAAAGAAAAAAEAAAIAAAAAAQAABgAAAAABAAACAAAAAAEAAAoAAAAAAQAABAAAAAABAAAAAAAAAAEAAAIAAAAAAQAACgAAAAABAAAEAAAAAAEAAAAAAAAAAQAAAgAAAAADAAAEAAAAAAEAAAYAAAAAAQAAAgAAAAABAAAEAAAAAAEAAAYAAAAAAQAAAgAAAAAcc3RzYwAAAAAAAAABAAAAAQAAACQAAAABAAAApHN0c3oAAAAAAAAAAAAAACQAAASsAAAAhgAAADIAAAAYAAAAMAAAAOUAAACwAAAATAAAAEIAAAAnAAAAsQAAAFQAAAA1AAAARgAAANMAAABAAAAA1QAAAE4AAADLAAAAQQAAAGUAAABJAAAAMQAAADMAAACTAAAAZwAAAEIAAABLAAAAYAAAAL4AAAC0AAAAxQAAAF8AAACAAAAAbAAAACMAAAAUc3RjbwAAAAAAAAABAAAAMAAAAGF1ZHRhAAAAWW1ldGEAAAAAAAAAIWhkbHIAAAAAAAAAAG1kaXJhcHBsAAAAAAAAAAAAAAAALGlsc3QAAAAkqXRvbwAAABxkYXRhAAAAAQAAAABMYXZmNjEuMS4xMDA=\" type=\"video/mp4\">\n",
              " Your browser does not support the video tag.\n",
              " </video>"
            ]
          },
          "metadata": {}
        }
      ],
      "source": [
        "reactive_policy = ReactivePolicy()\n",
        "\n",
        "reactive_policy_mean, reactive_policy_std = evaluate(env, reactive_policy)\n",
        "\n",
        "_, _ = evaluate(env_eval, reactive_policy, num_episodes=1)\n",
        "env_eval.play()"
      ]
    },
    {
      "cell_type": "markdown",
      "metadata": {
        "id": "lhze0bb_vE3K"
      },
      "source": [
        "## PPO Training\n",
        "\n",
        "We now use Stable Baselines3 to train some simple algorithms. We start by using [Proximal Policy Optimization](https://stable-baselines3.readthedocs.io/en/master/modules/ppo.html).\n",
        "\n",
        "We select the [MlpPolicy](https://stable-baselines3.readthedocs.io/en/master/modules/ppo.html#ppo-policies) because the state of the CartPole environment is a feature vector (not images for instance). The type of action to use (discrete/continuous) will be automatically deduced from the environment action space.\n",
        "\n",
        "We consider two network architectures:\n",
        "\n",
        "* Linear policy\n",
        "* Two hidden layers of 32 neurons each"
      ]
    },
    {
      "cell_type": "code",
      "execution_count": null,
      "metadata": {
        "id": "k-NBhhS_vE3K",
        "scrolled": false,
        "outputId": "6156a99e-2c28-41d8-99db-70333b51ab9c",
        "colab": {
          "base_uri": "https://localhost:8080/"
        }
      },
      "outputs": [
        {
          "output_type": "stream",
          "name": "stderr",
          "text": [
            "WARNING:py.warnings:/usr/local/lib/python3.12/dist-packages/stable_baselines3/common/policies.py:486: UserWarning: As shared layers in the mlp_extractor are removed since SB3 v1.8.0, you should now pass directly a dictionary and not a list (net_arch=dict(pi=..., vf=...) instead of net_arch=[dict(pi=..., vf=...)])\n",
            "  warnings.warn(\n",
            "\n"
          ]
        },
        {
          "output_type": "stream",
          "name": "stdout",
          "text": [
            "Using cuda device\n",
            "Wrapping the env with a `Monitor` wrapper\n",
            "Wrapping the env in a DummyVecEnv.\n"
          ]
        },
        {
          "output_type": "stream",
          "name": "stderr",
          "text": [
            "WARNING:py.warnings:/usr/local/lib/python3.12/dist-packages/jupyter_client/session.py:203: DeprecationWarning: datetime.datetime.utcnow() is deprecated and scheduled for removal in a future version. Use timezone-aware objects to represent datetimes in UTC: datetime.datetime.now(datetime.UTC).\n",
            "  return datetime.utcnow().replace(tzinfo=utc)\n",
            "\n",
            "WARNING:py.warnings:/usr/local/lib/python3.12/dist-packages/stable_baselines3/common/on_policy_algorithm.py:150: UserWarning: You are trying to run PPO on the GPU, but it is primarily intended to run on the CPU when not using a CNN policy (you are using ActorCriticPolicy which should be a MlpPolicy). See https://github.com/DLR-RM/stable-baselines3/issues/1245 for more info. You can pass `device='cpu'` or `export CUDA_VISIBLE_DEVICES=` to force using the CPU.Note: The model will train, but the GPU utilization will be poor and the training might take longer than on CPU.\n",
            "  warnings.warn(\n",
            "\n",
            "WARNING:py.warnings:/usr/local/lib/python3.12/dist-packages/stable_baselines3/common/policies.py:486: UserWarning: As shared layers in the mlp_extractor are removed since SB3 v1.8.0, you should now pass directly a dictionary and not a list (net_arch=dict(pi=..., vf=...) instead of net_arch=[dict(pi=..., vf=...)])\n",
            "  warnings.warn(\n",
            "\n"
          ]
        },
        {
          "output_type": "stream",
          "name": "stdout",
          "text": [
            "ActorCriticPolicy(\n",
            "  (features_extractor): FlattenExtractor(\n",
            "    (flatten): Flatten(start_dim=1, end_dim=-1)\n",
            "  )\n",
            "  (pi_features_extractor): FlattenExtractor(\n",
            "    (flatten): Flatten(start_dim=1, end_dim=-1)\n",
            "  )\n",
            "  (vf_features_extractor): FlattenExtractor(\n",
            "    (flatten): Flatten(start_dim=1, end_dim=-1)\n",
            "  )\n",
            "  (mlp_extractor): MlpExtractor(\n",
            "    (policy_net): Sequential(\n",
            "      (0): Linear(in_features=4, out_features=32, bias=True)\n",
            "      (1): Tanh()\n",
            "      (2): Linear(in_features=32, out_features=32, bias=True)\n",
            "      (3): Tanh()\n",
            "    )\n",
            "    (value_net): Sequential(\n",
            "      (0): Linear(in_features=4, out_features=32, bias=True)\n",
            "      (1): Tanh()\n",
            "      (2): Linear(in_features=32, out_features=32, bias=True)\n",
            "      (3): Tanh()\n",
            "    )\n",
            "  )\n",
            "  (action_net): Linear(in_features=32, out_features=2, bias=True)\n",
            "  (value_net): Linear(in_features=32, out_features=1, bias=True)\n",
            ")\n",
            "Using cuda device\n",
            "Wrapping the env with a `Monitor` wrapper\n",
            "Wrapping the env in a DummyVecEnv.\n",
            "ActorCriticPolicy(\n",
            "  (features_extractor): FlattenExtractor(\n",
            "    (flatten): Flatten(start_dim=1, end_dim=-1)\n",
            "  )\n",
            "  (pi_features_extractor): FlattenExtractor(\n",
            "    (flatten): Flatten(start_dim=1, end_dim=-1)\n",
            "  )\n",
            "  (vf_features_extractor): FlattenExtractor(\n",
            "    (flatten): Flatten(start_dim=1, end_dim=-1)\n",
            "  )\n",
            "  (mlp_extractor): MlpExtractor(\n",
            "    (policy_net): Sequential()\n",
            "    (value_net): Sequential()\n",
            "  )\n",
            "  (action_net): Linear(in_features=4, out_features=2, bias=True)\n",
            "  (value_net): Linear(in_features=4, out_features=1, bias=True)\n",
            ")\n"
          ]
        }
      ],
      "source": [
        "from stable_baselines3 import PPO\n",
        "\n",
        "# Instantiate the algorithm with 32x32 NN approximator for both actor and critic\n",
        "ppo_mlp = PPO(\"MlpPolicy\", env, verbose=1,\n",
        "                learning_rate=0.01,\n",
        "                policy_kwargs=dict(net_arch = [dict(pi=[32, 32], vf=[32, 32])]))\n",
        "\n",
        "print(ppo_mlp.policy)\n",
        "\n",
        "# Instantiate the algorithm with linear approximator for both actor and critic\n",
        "ppo_linear = PPO(\"MlpPolicy\", env, verbose=1,\n",
        "                   learning_rate=0.01,\n",
        "                   policy_kwargs=dict(net_arch = [dict(pi=[], vf=[])]))\n",
        "\n",
        "print(ppo_linear.policy)"
      ]
    },
    {
      "cell_type": "markdown",
      "metadata": {
        "id": "gMsk-dD0vE3K"
      },
      "source": [
        "Let us now train the algorithms. In order to keep track of the performance during learning, we can log the evaluations."
      ]
    },
    {
      "cell_type": "code",
      "execution_count": null,
      "metadata": {
        "id": "gnpEj4BWvE3L",
        "outputId": "f9a617f1-22d7-4cd3-b5ad-82e572a91206",
        "colab": {
          "base_uri": "https://localhost:8080/",
          "height": 1000,
          "referenced_widgets": [
            "7fb91cf4f3f34e64a0c6cc30e94e4bf2",
            "002fee0ade7142efbae567a2a487dd1e",
            "75eefde7fafd4f7781951b3688eb1255",
            "f772c40d2eb44f5eae7dafb2ff86afed"
          ]
        }
      },
      "outputs": [
        {
          "output_type": "display_data",
          "data": {
            "text/plain": [
              "Output()"
            ],
            "application/vnd.jupyter.widget-view+json": {
              "version_major": 2,
              "version_minor": 0,
              "model_id": "7fb91cf4f3f34e64a0c6cc30e94e4bf2"
            }
          },
          "metadata": {}
        },
        {
          "output_type": "stream",
          "name": "stderr",
          "text": [
            "WARNING:py.warnings:/usr/local/lib/python3.12/dist-packages/ipywidgets/widgets/widget_output.py:111: DeprecationWarning: Kernel._parent_header is deprecated in ipykernel 6. Use .get_parent()\n",
            "  if ip and hasattr(ip, 'kernel') and hasattr(ip.kernel, '_parent_header'):\n",
            "\n"
          ]
        },
        {
          "output_type": "stream",
          "name": "stdout",
          "text": [
            "-----------------------------------------\n",
            "| rollout/                |             |\n",
            "|    ep_len_mean          | 63.1        |\n",
            "|    ep_rew_mean          | 63.1        |\n",
            "| time/                   |             |\n",
            "|    fps                  | 428         |\n",
            "|    iterations           | 4           |\n",
            "|    time_elapsed         | 19          |\n",
            "|    total_timesteps      | 8192        |\n",
            "| train/                  |             |\n",
            "|    approx_kl            | 0.023866106 |\n",
            "|    clip_fraction        | 0.231       |\n",
            "|    clip_range           | 0.2         |\n",
            "|    entropy_loss         | -0.579      |\n",
            "|    explained_variance   | 0.418       |\n",
            "|    learning_rate        | 0.01        |\n",
            "|    loss                 | 22.1        |\n",
            "|    n_updates            | 30          |\n",
            "|    policy_gradient_loss | -0.0258     |\n",
            "|    value_loss           | 36.3        |\n",
            "-----------------------------------------\n",
            "-----------------------------------------\n",
            "| rollout/                |             |\n",
            "|    ep_len_mean          | 132         |\n",
            "|    ep_rew_mean          | 132         |\n",
            "| time/                   |             |\n",
            "|    fps                  | 435         |\n",
            "|    iterations           | 8           |\n",
            "|    time_elapsed         | 37          |\n",
            "|    total_timesteps      | 16384       |\n",
            "| train/                  |             |\n",
            "|    approx_kl            | 0.015564794 |\n",
            "|    clip_fraction        | 0.26        |\n",
            "|    clip_range           | 0.2         |\n",
            "|    entropy_loss         | -0.526      |\n",
            "|    explained_variance   | 0.971       |\n",
            "|    learning_rate        | 0.01        |\n",
            "|    loss                 | 1.2         |\n",
            "|    n_updates            | 70          |\n",
            "|    policy_gradient_loss | 0.0125      |\n",
            "|    value_loss           | 1.78        |\n",
            "-----------------------------------------\n",
            "----------------------------------------\n",
            "| rollout/                |            |\n",
            "|    ep_len_mean          | 190        |\n",
            "|    ep_rew_mean          | 190        |\n",
            "| time/                   |            |\n",
            "|    fps                  | 433        |\n",
            "|    iterations           | 12         |\n",
            "|    time_elapsed         | 56         |\n",
            "|    total_timesteps      | 24576      |\n",
            "| train/                  |            |\n",
            "|    approx_kl            | 0.01890207 |\n",
            "|    clip_fraction        | 0.184      |\n",
            "|    clip_range           | 0.2        |\n",
            "|    entropy_loss         | -0.481     |\n",
            "|    explained_variance   | 0.996      |\n",
            "|    learning_rate        | 0.01       |\n",
            "|    loss                 | 0.217      |\n",
            "|    n_updates            | 110        |\n",
            "|    policy_gradient_loss | -0.00991   |\n",
            "|    value_loss           | 0.982      |\n",
            "----------------------------------------\n",
            "----------------------------------------\n",
            "| rollout/                |            |\n",
            "|    ep_len_mean          | 244        |\n",
            "|    ep_rew_mean          | 244        |\n",
            "| time/                   |            |\n",
            "|    fps                  | 431        |\n",
            "|    iterations           | 16         |\n",
            "|    time_elapsed         | 76         |\n",
            "|    total_timesteps      | 32768      |\n",
            "| train/                  |            |\n",
            "|    approx_kl            | 0.03434465 |\n",
            "|    clip_fraction        | 0.268      |\n",
            "|    clip_range           | 0.2        |\n",
            "|    entropy_loss         | -0.526     |\n",
            "|    explained_variance   | 0.905      |\n",
            "|    learning_rate        | 0.01       |\n",
            "|    loss                 | 0.6        |\n",
            "|    n_updates            | 150        |\n",
            "|    policy_gradient_loss | -0.00919   |\n",
            "|    value_loss           | 1.82       |\n",
            "----------------------------------------\n",
            "-----------------------------------------\n",
            "| rollout/                |             |\n",
            "|    ep_len_mean          | 284         |\n",
            "|    ep_rew_mean          | 284         |\n",
            "| time/                   |             |\n",
            "|    fps                  | 433         |\n",
            "|    iterations           | 20          |\n",
            "|    time_elapsed         | 94          |\n",
            "|    total_timesteps      | 40960       |\n",
            "| train/                  |             |\n",
            "|    approx_kl            | 0.012073169 |\n",
            "|    clip_fraction        | 0.0991      |\n",
            "|    clip_range           | 0.2         |\n",
            "|    entropy_loss         | -0.538      |\n",
            "|    explained_variance   | 0.939       |\n",
            "|    learning_rate        | 0.01        |\n",
            "|    loss                 | 0.751       |\n",
            "|    n_updates            | 190         |\n",
            "|    policy_gradient_loss | 0.000386    |\n",
            "|    value_loss           | 3.28        |\n",
            "-----------------------------------------\n",
            "-----------------------------------------\n",
            "| rollout/                |             |\n",
            "|    ep_len_mean          | 314         |\n",
            "|    ep_rew_mean          | 314         |\n",
            "| time/                   |             |\n",
            "|    fps                  | 433         |\n",
            "|    iterations           | 24          |\n",
            "|    time_elapsed         | 113         |\n",
            "|    total_timesteps      | 49152       |\n",
            "| train/                  |             |\n",
            "|    approx_kl            | 0.011693576 |\n",
            "|    clip_fraction        | 0.172       |\n",
            "|    clip_range           | 0.2         |\n",
            "|    entropy_loss         | -0.473      |\n",
            "|    explained_variance   | 0.988       |\n",
            "|    learning_rate        | 0.01        |\n",
            "|    loss                 | 0.249       |\n",
            "|    n_updates            | 230         |\n",
            "|    policy_gradient_loss | -0.00877    |\n",
            "|    value_loss           | 0.976       |\n",
            "-----------------------------------------\n"
          ]
        },
        {
          "output_type": "display_data",
          "data": {
            "text/plain": [],
            "text/html": [
              "<pre style=\"white-space:pre;overflow-x:auto;line-height:normal;font-family:Menlo,'DejaVu Sans Mono',consolas,'Courier New',monospace\"></pre>\n"
            ]
          },
          "metadata": {}
        },
        {
          "output_type": "display_data",
          "data": {
            "text/plain": [
              "Output()"
            ],
            "application/vnd.jupyter.widget-view+json": {
              "version_major": 2,
              "version_minor": 0,
              "model_id": "75eefde7fafd4f7781951b3688eb1255"
            }
          },
          "metadata": {}
        },
        {
          "output_type": "stream",
          "name": "stdout",
          "text": [
            "-----------------------------------------\n",
            "| rollout/                |             |\n",
            "|    ep_len_mean          | 46.8        |\n",
            "|    ep_rew_mean          | 46.8        |\n",
            "| time/                   |             |\n",
            "|    fps                  | 570         |\n",
            "|    iterations           | 4           |\n",
            "|    time_elapsed         | 14          |\n",
            "|    total_timesteps      | 8192        |\n",
            "| train/                  |             |\n",
            "|    approx_kl            | 0.005344673 |\n",
            "|    clip_fraction        | 0.0383      |\n",
            "|    clip_range           | 0.2         |\n",
            "|    entropy_loss         | -0.649      |\n",
            "|    explained_variance   | -0.00783    |\n",
            "|    learning_rate        | 0.01        |\n",
            "|    loss                 | 38.2        |\n",
            "|    n_updates            | 30          |\n",
            "|    policy_gradient_loss | -0.0103     |\n",
            "|    value_loss           | 89.5        |\n",
            "-----------------------------------------\n",
            "-----------------------------------------\n",
            "| rollout/                |             |\n",
            "|    ep_len_mean          | 106         |\n",
            "|    ep_rew_mean          | 106         |\n",
            "| time/                   |             |\n",
            "|    fps                  | 531         |\n",
            "|    iterations           | 8           |\n",
            "|    time_elapsed         | 30          |\n",
            "|    total_timesteps      | 16384       |\n",
            "| train/                  |             |\n",
            "|    approx_kl            | 0.008330625 |\n",
            "|    clip_fraction        | 0.0639      |\n",
            "|    clip_range           | 0.2         |\n",
            "|    entropy_loss         | -0.611      |\n",
            "|    explained_variance   | 0.008       |\n",
            "|    learning_rate        | 0.01        |\n",
            "|    loss                 | 45.1        |\n",
            "|    n_updates            | 70          |\n",
            "|    policy_gradient_loss | -0.00646    |\n",
            "|    value_loss           | 118         |\n",
            "-----------------------------------------\n",
            "------------------------------------------\n",
            "| rollout/                |              |\n",
            "|    ep_len_mean          | 161          |\n",
            "|    ep_rew_mean          | 161          |\n",
            "| time/                   |              |\n",
            "|    fps                  | 531          |\n",
            "|    iterations           | 12           |\n",
            "|    time_elapsed         | 46           |\n",
            "|    total_timesteps      | 24576        |\n",
            "| train/                  |              |\n",
            "|    approx_kl            | 0.0030388809 |\n",
            "|    clip_fraction        | 0.0216       |\n",
            "|    clip_range           | 0.2          |\n",
            "|    entropy_loss         | -0.579       |\n",
            "|    explained_variance   | 0.0643       |\n",
            "|    learning_rate        | 0.01         |\n",
            "|    loss                 | 37.5         |\n",
            "|    n_updates            | 110          |\n",
            "|    policy_gradient_loss | -0.00187     |\n",
            "|    value_loss           | 102          |\n",
            "------------------------------------------\n",
            "------------------------------------------\n",
            "| rollout/                |              |\n",
            "|    ep_len_mean          | 202          |\n",
            "|    ep_rew_mean          | 202          |\n",
            "| time/                   |              |\n",
            "|    fps                  | 529          |\n",
            "|    iterations           | 16           |\n",
            "|    time_elapsed         | 61           |\n",
            "|    total_timesteps      | 32768        |\n",
            "| train/                  |              |\n",
            "|    approx_kl            | 0.0031505204 |\n",
            "|    clip_fraction        | 0.019        |\n",
            "|    clip_range           | 0.2          |\n",
            "|    entropy_loss         | -0.596       |\n",
            "|    explained_variance   | -0.00289     |\n",
            "|    learning_rate        | 0.01         |\n",
            "|    loss                 | 34.5         |\n",
            "|    n_updates            | 150          |\n",
            "|    policy_gradient_loss | -0.00214     |\n",
            "|    value_loss           | 101          |\n",
            "------------------------------------------\n",
            "------------------------------------------\n",
            "| rollout/                |              |\n",
            "|    ep_len_mean          | 212          |\n",
            "|    ep_rew_mean          | 212          |\n",
            "| time/                   |              |\n",
            "|    fps                  | 525          |\n",
            "|    iterations           | 20           |\n",
            "|    time_elapsed         | 78           |\n",
            "|    total_timesteps      | 40960        |\n",
            "| train/                  |              |\n",
            "|    approx_kl            | 0.0015836635 |\n",
            "|    clip_fraction        | 0.0128       |\n",
            "|    clip_range           | 0.2          |\n",
            "|    entropy_loss         | -0.593       |\n",
            "|    explained_variance   | 0.345        |\n",
            "|    learning_rate        | 0.01         |\n",
            "|    loss                 | 47.2         |\n",
            "|    n_updates            | 190          |\n",
            "|    policy_gradient_loss | -0.000775    |\n",
            "|    value_loss           | 109          |\n",
            "------------------------------------------\n",
            "------------------------------------------\n",
            "| rollout/                |              |\n",
            "|    ep_len_mean          | 216          |\n",
            "|    ep_rew_mean          | 216          |\n",
            "| time/                   |              |\n",
            "|    fps                  | 525          |\n",
            "|    iterations           | 24           |\n",
            "|    time_elapsed         | 93           |\n",
            "|    total_timesteps      | 49152        |\n",
            "| train/                  |              |\n",
            "|    approx_kl            | 0.0038168347 |\n",
            "|    clip_fraction        | 0.0309       |\n",
            "|    clip_range           | 0.2          |\n",
            "|    entropy_loss         | -0.585       |\n",
            "|    explained_variance   | -0.328       |\n",
            "|    learning_rate        | 0.01         |\n",
            "|    loss                 | 87.3         |\n",
            "|    n_updates            | 230          |\n",
            "|    policy_gradient_loss | -0.00117     |\n",
            "|    value_loss           | 200          |\n",
            "------------------------------------------\n"
          ]
        },
        {
          "output_type": "display_data",
          "data": {
            "text/plain": [],
            "text/html": [
              "<pre style=\"white-space:pre;overflow-x:auto;line-height:normal;font-family:Menlo,'DejaVu Sans Mono',consolas,'Courier New',monospace\"></pre>\n"
            ]
          },
          "metadata": {}
        },
        {
          "output_type": "execute_result",
          "data": {
            "text/plain": [
              "<stable_baselines3.ppo.ppo.PPO at 0x7e264479c140>"
            ]
          },
          "metadata": {},
          "execution_count": 12
        }
      ],
      "source": [
        "# Train the agent for 50000 steps\n",
        "ppo_mlp.learn(total_timesteps=50000, log_interval=4, progress_bar=True)\n",
        "\n",
        "ppo_linear.learn(total_timesteps=50000, log_interval=4, progress_bar=True)"
      ]
    },
    {
      "cell_type": "code",
      "execution_count": null,
      "metadata": {
        "id": "aLDoA0CpvE3M",
        "outputId": "8af4c6c1-946a-47ff-8962-9db86cc09401",
        "colab": {
          "base_uri": "https://localhost:8080/",
          "height": 1000
        }
      },
      "outputs": [
        {
          "output_type": "stream",
          "name": "stdout",
          "text": [
            "Mean reward: 500.0 Std reward: 0.0 Num episodes: 100\n"
          ]
        },
        {
          "output_type": "stream",
          "name": "stderr",
          "text": [
            "WARNING:py.warnings:/tmp/ipython-input-1596058116.py:26: RuntimeWarning: invalid value encountered in scalar divide\n",
            "  std_episode_reward = np.std(all_episode_rewards) / np.sqrt(num_episodes - 1)\n",
            "\n"
          ]
        },
        {
          "output_type": "stream",
          "name": "stdout",
          "text": [
            "Mean reward: 500.0 Std reward: nan Num episodes: 1\n",
            "Moviepy - Building video temp-{start}.mp4.\n",
            "Moviepy - Writing video temp-{start}.mp4\n",
            "\n"
          ]
        },
        {
          "output_type": "stream",
          "name": "stderr",
          "text": []
        },
        {
          "output_type": "stream",
          "name": "stdout",
          "text": [
            "Moviepy - Done !\n",
            "Moviepy - video ready temp-{start}.mp4\n"
          ]
        },
        {
          "output_type": "display_data",
          "data": {
            "text/plain": [
              "<IPython.core.display.Video object>"
            ],
            "text/html": [
              "<video controls  >\n",
              " <source src=\"data:video/mp4;base64,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\" type=\"video/mp4\">\n",
              " Your browser does not support the video tag.\n",
              " </video>"
            ]
          },
          "metadata": {}
        },
        {
          "output_type": "stream",
          "name": "stdout",
          "text": [
            "Mean reward: 229.51 Std reward: 8.211023570835007 Num episodes: 100\n",
            "Mean reward: 270.0 Std reward: nan Num episodes: 1\n",
            "Moviepy - Building video temp-{start}.mp4.\n",
            "Moviepy - Writing video temp-{start}.mp4\n",
            "\n"
          ]
        },
        {
          "output_type": "stream",
          "name": "stderr",
          "text": []
        },
        {
          "output_type": "stream",
          "name": "stdout",
          "text": [
            "Moviepy - Done !\n",
            "Moviepy - video ready temp-{start}.mp4\n"
          ]
        },
        {
          "output_type": "display_data",
          "data": {
            "text/plain": [
              "<IPython.core.display.Video object>"
            ],
            "text/html": [
              "<video controls  >\n",
              " <source src=\"data:video/mp4;base64,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\" type=\"video/mp4\">\n",
              " Your browser does not support the video tag.\n",
              " </video>"
            ]
          },
          "metadata": {}
        }
      ],
      "source": [
        "# Evaluate the trained models\n",
        "ppo_mlp_mean, ppo_mlp_std = evaluate(env, ppo_mlp)\n",
        "\n",
        "_, _ = evaluate(env_eval, ppo_mlp, num_episodes=1)\n",
        "env_eval.play()\n",
        "\n",
        "\n",
        "ppo_linear_mean, ppo_linear_std = evaluate(env, ppo_linear)\n",
        "\n",
        "_, _ = evaluate(env_eval, ppo_linear, num_episodes=1)\n",
        "env_eval.play()"
      ]
    },
    {
      "cell_type": "markdown",
      "metadata": {
        "id": "_gmOZ_6DvE3M"
      },
      "source": [
        "Let us have a look at the weights learned by PPO with the linear policy. Since actions are discrete, the policy model is **softmax**:\n",
        "\n",
        "$$\n",
        "\\pi_{\\boldsymbol{\\theta}}(a|\\mathbf{s}) \\propto \\exp \\left( \\mathbf{s}^T \\boldsymbol{\\theta}(a) + b(a) \\right)\n",
        "$$"
      ]
    },
    {
      "cell_type": "code",
      "execution_count": null,
      "metadata": {
        "id": "N7pFa60tvE3M",
        "outputId": "d686e1f7-2ade-46c5-fdd8-3c7a1d05bcde",
        "colab": {
          "base_uri": "https://localhost:8080/"
        }
      },
      "outputs": [
        {
          "output_type": "stream",
          "name": "stdout",
          "text": [
            "Parameter containing:\n",
            "tensor([[ 0.4591, -0.0544, -6.3173, -1.3962],\n",
            "        [-0.4458,  0.0586,  6.3171,  1.3989]], device='cuda:0',\n",
            "       requires_grad=True)\n",
            "Parameter containing:\n",
            "tensor([-0.0034,  0.0034], device='cuda:0', requires_grad=True)\n"
          ]
        }
      ],
      "source": [
        "print(ppo_linear.policy.action_net.weight)\n",
        "print(ppo_linear.policy.action_net.bias)"
      ]
    },
    {
      "cell_type": "markdown",
      "metadata": {
        "id": "cKNVraYivE3N"
      },
      "source": [
        "## DQN Training"
      ]
    },
    {
      "cell_type": "markdown",
      "metadata": {
        "id": "sg9-M4rAvE3N"
      },
      "source": [
        "Let us now try [DQN](https://stable-baselines3.readthedocs.io/en/master/modules/dqn.html) with an MlpPolicy as well."
      ]
    },
    {
      "cell_type": "code",
      "execution_count": null,
      "metadata": {
        "id": "gU0fNecsvE3N",
        "outputId": "5ceec211-c1ba-4a63-d266-fc51ae49ffad",
        "colab": {
          "base_uri": "https://localhost:8080/"
        }
      },
      "outputs": [
        {
          "output_type": "stream",
          "name": "stdout",
          "text": [
            "Using cuda device\n",
            "Wrapping the env with a `Monitor` wrapper\n",
            "Wrapping the env in a DummyVecEnv.\n",
            "DQNPolicy(\n",
            "  (q_net): QNetwork(\n",
            "    (features_extractor): FlattenExtractor(\n",
            "      (flatten): Flatten(start_dim=1, end_dim=-1)\n",
            "    )\n",
            "    (q_net): Sequential(\n",
            "      (0): Linear(in_features=4, out_features=32, bias=True)\n",
            "      (1): Tanh()\n",
            "      (2): Linear(in_features=32, out_features=32, bias=True)\n",
            "      (3): Tanh()\n",
            "      (4): Linear(in_features=32, out_features=2, bias=True)\n",
            "    )\n",
            "  )\n",
            "  (q_net_target): QNetwork(\n",
            "    (features_extractor): FlattenExtractor(\n",
            "      (flatten): Flatten(start_dim=1, end_dim=-1)\n",
            "    )\n",
            "    (q_net): Sequential(\n",
            "      (0): Linear(in_features=4, out_features=32, bias=True)\n",
            "      (1): Tanh()\n",
            "      (2): Linear(in_features=32, out_features=32, bias=True)\n",
            "      (3): Tanh()\n",
            "      (4): Linear(in_features=32, out_features=2, bias=True)\n",
            "    )\n",
            "  )\n",
            ")\n"
          ]
        }
      ],
      "source": [
        "from stable_baselines3 import DQN\n",
        "from torch import nn\n",
        "\n",
        "\n",
        "# Instantiate the algorithm with 32x32 NN approximator\n",
        "dqn_mlp = DQN(\"MlpPolicy\", env, verbose=1,\n",
        "                learning_starts=3000,\n",
        "                policy_kwargs=dict(net_arch = [32, 32], activation_fn=nn.Tanh))\n",
        "\n",
        "print(dqn_mlp.policy)"
      ]
    },
    {
      "cell_type": "code",
      "execution_count": null,
      "metadata": {
        "id": "Ye-yH_qsvE3N",
        "outputId": "bd47dee9-0c28-4911-f082-97c805ba1ed7",
        "colab": {
          "base_uri": "https://localhost:8080/",
          "height": 1000,
          "referenced_widgets": [
            "786de64cc9484a0195f1a80339294f10",
            "a8d4855e0e8c425681584df818534ec5"
          ]
        }
      },
      "outputs": [
        {
          "output_type": "display_data",
          "data": {
            "text/plain": [
              "Output()"
            ],
            "application/vnd.jupyter.widget-view+json": {
              "version_major": 2,
              "version_minor": 0,
              "model_id": "786de64cc9484a0195f1a80339294f10"
            }
          },
          "metadata": {}
        },
        {
          "output_type": "stream",
          "name": "stdout",
          "text": [
            "----------------------------------\n",
            "| rollout/            |          |\n",
            "|    ep_len_mean      | 21.8     |\n",
            "|    ep_rew_mean      | 21.8     |\n",
            "|    exploration_rate | 0.586    |\n",
            "| time/               |          |\n",
            "|    episodes         | 100      |\n",
            "|    fps              | 9746     |\n",
            "|    time_elapsed     | 0        |\n",
            "|    total_timesteps  | 2179     |\n",
            "----------------------------------\n",
            "----------------------------------\n",
            "| rollout/            |          |\n",
            "|    ep_len_mean      | 16.3     |\n",
            "|    ep_rew_mean      | 16.3     |\n",
            "|    exploration_rate | 0.277    |\n",
            "| time/               |          |\n",
            "|    episodes         | 200      |\n",
            "|    fps              | 3153     |\n",
            "|    time_elapsed     | 1        |\n",
            "|    total_timesteps  | 3805     |\n",
            "| train/              |          |\n",
            "|    learning_rate    | 0.0001   |\n",
            "|    loss             | 0.219    |\n",
            "|    n_updates        | 201      |\n",
            "----------------------------------\n",
            "----------------------------------\n",
            "| rollout/            |          |\n",
            "|    ep_len_mean      | 10.3     |\n",
            "|    ep_rew_mean      | 10.3     |\n",
            "|    exploration_rate | 0.081    |\n",
            "| time/               |          |\n",
            "|    episodes         | 300      |\n",
            "|    fps              | 1894     |\n",
            "|    time_elapsed     | 2        |\n",
            "|    total_timesteps  | 4837     |\n",
            "| train/              |          |\n",
            "|    learning_rate    | 0.0001   |\n",
            "|    loss             | 0.0364   |\n",
            "|    n_updates        | 459      |\n",
            "----------------------------------\n",
            "----------------------------------\n",
            "| rollout/            |          |\n",
            "|    ep_len_mean      | 9.45     |\n",
            "|    ep_rew_mean      | 9.45     |\n",
            "|    exploration_rate | 0.05     |\n",
            "| time/               |          |\n",
            "|    episodes         | 400      |\n",
            "|    fps              | 1418     |\n",
            "|    time_elapsed     | 4        |\n",
            "|    total_timesteps  | 5782     |\n",
            "| train/              |          |\n",
            "|    learning_rate    | 0.0001   |\n",
            "|    loss             | 0.00232  |\n",
            "|    n_updates        | 695      |\n",
            "----------------------------------\n",
            "----------------------------------\n",
            "| rollout/            |          |\n",
            "|    ep_len_mean      | 9.71     |\n",
            "|    ep_rew_mean      | 9.71     |\n",
            "|    exploration_rate | 0.05     |\n",
            "| time/               |          |\n",
            "|    episodes         | 500      |\n",
            "|    fps              | 1271     |\n",
            "|    time_elapsed     | 5        |\n",
            "|    total_timesteps  | 6753     |\n",
            "| train/              |          |\n",
            "|    learning_rate    | 0.0001   |\n",
            "|    loss             | 0.00086  |\n",
            "|    n_updates        | 938      |\n",
            "----------------------------------\n",
            "----------------------------------\n",
            "| rollout/            |          |\n",
            "|    ep_len_mean      | 9.73     |\n",
            "|    ep_rew_mean      | 9.73     |\n",
            "|    exploration_rate | 0.05     |\n",
            "| time/               |          |\n",
            "|    episodes         | 600      |\n",
            "|    fps              | 1181     |\n",
            "|    time_elapsed     | 6        |\n",
            "|    total_timesteps  | 7726     |\n",
            "| train/              |          |\n",
            "|    learning_rate    | 0.0001   |\n",
            "|    loss             | 0.00101  |\n",
            "|    n_updates        | 1181     |\n",
            "----------------------------------\n",
            "----------------------------------\n",
            "| rollout/            |          |\n",
            "|    ep_len_mean      | 9.62     |\n",
            "|    ep_rew_mean      | 9.62     |\n",
            "|    exploration_rate | 0.05     |\n",
            "| time/               |          |\n",
            "|    episodes         | 700      |\n",
            "|    fps              | 1122     |\n",
            "|    time_elapsed     | 7        |\n",
            "|    total_timesteps  | 8688     |\n",
            "| train/              |          |\n",
            "|    learning_rate    | 0.0001   |\n",
            "|    loss             | 0.00144  |\n",
            "|    n_updates        | 1421     |\n",
            "----------------------------------\n",
            "----------------------------------\n",
            "| rollout/            |          |\n",
            "|    ep_len_mean      | 9.59     |\n",
            "|    ep_rew_mean      | 9.59     |\n",
            "|    exploration_rate | 0.05     |\n",
            "| time/               |          |\n",
            "|    episodes         | 800      |\n",
            "|    fps              | 1076     |\n",
            "|    time_elapsed     | 8        |\n",
            "|    total_timesteps  | 9647     |\n",
            "| train/              |          |\n",
            "|    learning_rate    | 0.0001   |\n",
            "|    loss             | 0.000759 |\n",
            "|    n_updates        | 1661     |\n",
            "----------------------------------\n",
            "----------------------------------\n",
            "| rollout/            |          |\n",
            "|    ep_len_mean      | 9.64     |\n",
            "|    ep_rew_mean      | 9.64     |\n",
            "|    exploration_rate | 0.05     |\n",
            "| time/               |          |\n",
            "|    episodes         | 900      |\n",
            "|    fps              | 1036     |\n",
            "|    time_elapsed     | 10       |\n",
            "|    total_timesteps  | 10611    |\n",
            "| train/              |          |\n",
            "|    learning_rate    | 0.0001   |\n",
            "|    loss             | 0.0141   |\n",
            "|    n_updates        | 1902     |\n",
            "----------------------------------\n",
            "----------------------------------\n",
            "| rollout/            |          |\n",
            "|    ep_len_mean      | 9.53     |\n",
            "|    ep_rew_mean      | 9.53     |\n",
            "|    exploration_rate | 0.05     |\n",
            "| time/               |          |\n",
            "|    episodes         | 1000     |\n",
            "|    fps              | 1010     |\n",
            "|    time_elapsed     | 11       |\n",
            "|    total_timesteps  | 11564    |\n",
            "| train/              |          |\n",
            "|    learning_rate    | 0.0001   |\n",
            "|    loss             | 0.0117   |\n",
            "|    n_updates        | 2140     |\n",
            "----------------------------------\n",
            "----------------------------------\n",
            "| rollout/            |          |\n",
            "|    ep_len_mean      | 9.63     |\n",
            "|    ep_rew_mean      | 9.63     |\n",
            "|    exploration_rate | 0.05     |\n",
            "| time/               |          |\n",
            "|    episodes         | 1100     |\n",
            "|    fps              | 991      |\n",
            "|    time_elapsed     | 12       |\n",
            "|    total_timesteps  | 12527    |\n",
            "| train/              |          |\n",
            "|    learning_rate    | 0.0001   |\n",
            "|    loss             | 0.0163   |\n",
            "|    n_updates        | 2381     |\n",
            "----------------------------------\n",
            "----------------------------------\n",
            "| rollout/            |          |\n",
            "|    ep_len_mean      | 9.62     |\n",
            "|    ep_rew_mean      | 9.62     |\n",
            "|    exploration_rate | 0.05     |\n",
            "| time/               |          |\n",
            "|    episodes         | 1200     |\n",
            "|    fps              | 975      |\n",
            "|    time_elapsed     | 13       |\n",
            "|    total_timesteps  | 13489    |\n",
            "| train/              |          |\n",
            "|    learning_rate    | 0.0001   |\n",
            "|    loss             | 0.0515   |\n",
            "|    n_updates        | 2622     |\n",
            "----------------------------------\n",
            "----------------------------------\n",
            "| rollout/            |          |\n",
            "|    ep_len_mean      | 9.72     |\n",
            "|    ep_rew_mean      | 9.72     |\n",
            "|    exploration_rate | 0.05     |\n",
            "| time/               |          |\n",
            "|    episodes         | 1300     |\n",
            "|    fps              | 944      |\n",
            "|    time_elapsed     | 15       |\n",
            "|    total_timesteps  | 14461    |\n",
            "| train/              |          |\n",
            "|    learning_rate    | 0.0001   |\n",
            "|    loss             | 0.0133   |\n",
            "|    n_updates        | 2865     |\n",
            "----------------------------------\n",
            "----------------------------------\n",
            "| rollout/            |          |\n",
            "|    ep_len_mean      | 9.72     |\n",
            "|    ep_rew_mean      | 9.72     |\n",
            "|    exploration_rate | 0.05     |\n",
            "| time/               |          |\n",
            "|    episodes         | 1400     |\n",
            "|    fps              | 917      |\n",
            "|    time_elapsed     | 16       |\n",
            "|    total_timesteps  | 15433    |\n",
            "| train/              |          |\n",
            "|    learning_rate    | 0.0001   |\n",
            "|    loss             | 0.0171   |\n",
            "|    n_updates        | 3108     |\n",
            "----------------------------------\n",
            "----------------------------------\n",
            "| rollout/            |          |\n",
            "|    ep_len_mean      | 9.66     |\n",
            "|    ep_rew_mean      | 9.66     |\n",
            "|    exploration_rate | 0.05     |\n",
            "| time/               |          |\n",
            "|    episodes         | 1500     |\n",
            "|    fps              | 911      |\n",
            "|    time_elapsed     | 17       |\n",
            "|    total_timesteps  | 16399    |\n",
            "| train/              |          |\n",
            "|    learning_rate    | 0.0001   |\n",
            "|    loss             | 0.0312   |\n",
            "|    n_updates        | 3349     |\n",
            "----------------------------------\n",
            "----------------------------------\n",
            "| rollout/            |          |\n",
            "|    ep_len_mean      | 9.54     |\n",
            "|    ep_rew_mean      | 9.54     |\n",
            "|    exploration_rate | 0.05     |\n",
            "| time/               |          |\n",
            "|    episodes         | 1600     |\n",
            "|    fps              | 905      |\n",
            "|    time_elapsed     | 19       |\n",
            "|    total_timesteps  | 17353    |\n",
            "| train/              |          |\n",
            "|    learning_rate    | 0.0001   |\n",
            "|    loss             | 0.0174   |\n",
            "|    n_updates        | 3588     |\n",
            "----------------------------------\n",
            "----------------------------------\n",
            "| rollout/            |          |\n",
            "|    ep_len_mean      | 9.64     |\n",
            "|    ep_rew_mean      | 9.64     |\n",
            "|    exploration_rate | 0.05     |\n",
            "| time/               |          |\n",
            "|    episodes         | 1700     |\n",
            "|    fps              | 898      |\n",
            "|    time_elapsed     | 20       |\n",
            "|    total_timesteps  | 18317    |\n",
            "| train/              |          |\n",
            "|    learning_rate    | 0.0001   |\n",
            "|    loss             | 0.0345   |\n",
            "|    n_updates        | 3829     |\n",
            "----------------------------------\n",
            "----------------------------------\n",
            "| rollout/            |          |\n",
            "|    ep_len_mean      | 9.56     |\n",
            "|    ep_rew_mean      | 9.56     |\n",
            "|    exploration_rate | 0.05     |\n",
            "| time/               |          |\n",
            "|    episodes         | 1800     |\n",
            "|    fps              | 893      |\n",
            "|    time_elapsed     | 21       |\n",
            "|    total_timesteps  | 19273    |\n",
            "| train/              |          |\n",
            "|    learning_rate    | 0.0001   |\n",
            "|    loss             | 0.0203   |\n",
            "|    n_updates        | 4068     |\n",
            "----------------------------------\n",
            "----------------------------------\n",
            "| rollout/            |          |\n",
            "|    ep_len_mean      | 9.58     |\n",
            "|    ep_rew_mean      | 9.58     |\n",
            "|    exploration_rate | 0.05     |\n",
            "| time/               |          |\n",
            "|    episodes         | 1900     |\n",
            "|    fps              | 889      |\n",
            "|    time_elapsed     | 22       |\n",
            "|    total_timesteps  | 20231    |\n",
            "| train/              |          |\n",
            "|    learning_rate    | 0.0001   |\n",
            "|    loss             | 0.24     |\n",
            "|    n_updates        | 4307     |\n",
            "----------------------------------\n",
            "----------------------------------\n",
            "| rollout/            |          |\n",
            "|    ep_len_mean      | 9.51     |\n",
            "|    ep_rew_mean      | 9.51     |\n",
            "|    exploration_rate | 0.05     |\n",
            "| time/               |          |\n",
            "|    episodes         | 2000     |\n",
            "|    fps              | 883      |\n",
            "|    time_elapsed     | 23       |\n",
            "|    total_timesteps  | 21182    |\n",
            "| train/              |          |\n",
            "|    learning_rate    | 0.0001   |\n",
            "|    loss             | 0.0319   |\n",
            "|    n_updates        | 4545     |\n",
            "----------------------------------\n",
            "----------------------------------\n",
            "| rollout/            |          |\n",
            "|    ep_len_mean      | 9.64     |\n",
            "|    ep_rew_mean      | 9.64     |\n",
            "|    exploration_rate | 0.05     |\n",
            "| time/               |          |\n",
            "|    episodes         | 2100     |\n",
            "|    fps              | 880      |\n",
            "|    time_elapsed     | 25       |\n",
            "|    total_timesteps  | 22146    |\n",
            "| train/              |          |\n",
            "|    learning_rate    | 0.0001   |\n",
            "|    loss             | 0.0364   |\n",
            "|    n_updates        | 4786     |\n",
            "----------------------------------\n",
            "----------------------------------\n",
            "| rollout/            |          |\n",
            "|    ep_len_mean      | 9.44     |\n",
            "|    ep_rew_mean      | 9.44     |\n",
            "|    exploration_rate | 0.05     |\n",
            "| time/               |          |\n",
            "|    episodes         | 2200     |\n",
            "|    fps              | 877      |\n",
            "|    time_elapsed     | 26       |\n",
            "|    total_timesteps  | 23090    |\n",
            "| train/              |          |\n",
            "|    learning_rate    | 0.0001   |\n",
            "|    loss             | 0.04     |\n",
            "|    n_updates        | 5022     |\n",
            "----------------------------------\n",
            "----------------------------------\n",
            "| rollout/            |          |\n",
            "|    ep_len_mean      | 9.63     |\n",
            "|    ep_rew_mean      | 9.63     |\n",
            "|    exploration_rate | 0.05     |\n",
            "| time/               |          |\n",
            "|    episodes         | 2300     |\n",
            "|    fps              | 863      |\n",
            "|    time_elapsed     | 27       |\n",
            "|    total_timesteps  | 24053    |\n",
            "| train/              |          |\n",
            "|    learning_rate    | 0.0001   |\n",
            "|    loss             | 0.134    |\n",
            "|    n_updates        | 5263     |\n",
            "----------------------------------\n",
            "----------------------------------\n",
            "| rollout/            |          |\n",
            "|    ep_len_mean      | 9.52     |\n",
            "|    ep_rew_mean      | 9.52     |\n",
            "|    exploration_rate | 0.05     |\n",
            "| time/               |          |\n",
            "|    episodes         | 2400     |\n",
            "|    fps              | 855      |\n",
            "|    time_elapsed     | 29       |\n",
            "|    total_timesteps  | 25005    |\n",
            "| train/              |          |\n",
            "|    learning_rate    | 0.0001   |\n",
            "|    loss             | 0.0279   |\n",
            "|    n_updates        | 5501     |\n",
            "----------------------------------\n",
            "----------------------------------\n",
            "| rollout/            |          |\n",
            "|    ep_len_mean      | 9.62     |\n",
            "|    ep_rew_mean      | 9.62     |\n",
            "|    exploration_rate | 0.05     |\n",
            "| time/               |          |\n",
            "|    episodes         | 2500     |\n",
            "|    fps              | 853      |\n",
            "|    time_elapsed     | 30       |\n",
            "|    total_timesteps  | 25967    |\n",
            "| train/              |          |\n",
            "|    learning_rate    | 0.0001   |\n",
            "|    loss             | 0.0296   |\n",
            "|    n_updates        | 5741     |\n",
            "----------------------------------\n",
            "----------------------------------\n",
            "| rollout/            |          |\n",
            "|    ep_len_mean      | 9.39     |\n",
            "|    ep_rew_mean      | 9.39     |\n",
            "|    exploration_rate | 0.05     |\n",
            "| time/               |          |\n",
            "|    episodes         | 2600     |\n",
            "|    fps              | 851      |\n",
            "|    time_elapsed     | 31       |\n",
            "|    total_timesteps  | 26906    |\n",
            "| train/              |          |\n",
            "|    learning_rate    | 0.0001   |\n",
            "|    loss             | 0.0653   |\n",
            "|    n_updates        | 5976     |\n",
            "----------------------------------\n",
            "----------------------------------\n",
            "| rollout/            |          |\n",
            "|    ep_len_mean      | 9.41     |\n",
            "|    ep_rew_mean      | 9.41     |\n",
            "|    exploration_rate | 0.05     |\n",
            "| time/               |          |\n",
            "|    episodes         | 2700     |\n",
            "|    fps              | 850      |\n",
            "|    time_elapsed     | 32       |\n",
            "|    total_timesteps  | 27847    |\n",
            "| train/              |          |\n",
            "|    learning_rate    | 0.0001   |\n",
            "|    loss             | 0.0432   |\n",
            "|    n_updates        | 6211     |\n",
            "----------------------------------\n",
            "----------------------------------\n",
            "| rollout/            |          |\n",
            "|    ep_len_mean      | 9.66     |\n",
            "|    ep_rew_mean      | 9.66     |\n",
            "|    exploration_rate | 0.05     |\n",
            "| time/               |          |\n",
            "|    episodes         | 2800     |\n",
            "|    fps              | 848      |\n",
            "|    time_elapsed     | 33       |\n",
            "|    total_timesteps  | 28813    |\n",
            "| train/              |          |\n",
            "|    learning_rate    | 0.0001   |\n",
            "|    loss             | 0.0503   |\n",
            "|    n_updates        | 6453     |\n",
            "----------------------------------\n",
            "----------------------------------\n",
            "| rollout/            |          |\n",
            "|    ep_len_mean      | 9.43     |\n",
            "|    ep_rew_mean      | 9.43     |\n",
            "|    exploration_rate | 0.05     |\n",
            "| time/               |          |\n",
            "|    episodes         | 2900     |\n",
            "|    fps              | 846      |\n",
            "|    time_elapsed     | 35       |\n",
            "|    total_timesteps  | 29756    |\n",
            "| train/              |          |\n",
            "|    learning_rate    | 0.0001   |\n",
            "|    loss             | 0.0295   |\n",
            "|    n_updates        | 6688     |\n",
            "----------------------------------\n",
            "----------------------------------\n",
            "| rollout/            |          |\n",
            "|    ep_len_mean      | 9.63     |\n",
            "|    ep_rew_mean      | 9.63     |\n",
            "|    exploration_rate | 0.05     |\n",
            "| time/               |          |\n",
            "|    episodes         | 3000     |\n",
            "|    fps              | 845      |\n",
            "|    time_elapsed     | 36       |\n",
            "|    total_timesteps  | 30719    |\n",
            "| train/              |          |\n",
            "|    learning_rate    | 0.0001   |\n",
            "|    loss             | 0.0187   |\n",
            "|    n_updates        | 6929     |\n",
            "----------------------------------\n",
            "----------------------------------\n",
            "| rollout/            |          |\n",
            "|    ep_len_mean      | 9.57     |\n",
            "|    ep_rew_mean      | 9.57     |\n",
            "|    exploration_rate | 0.05     |\n",
            "| time/               |          |\n",
            "|    episodes         | 3100     |\n",
            "|    fps              | 844      |\n",
            "|    time_elapsed     | 37       |\n",
            "|    total_timesteps  | 31676    |\n",
            "| train/              |          |\n",
            "|    learning_rate    | 0.0001   |\n",
            "|    loss             | 0.0315   |\n",
            "|    n_updates        | 7168     |\n",
            "----------------------------------\n",
            "----------------------------------\n",
            "| rollout/            |          |\n",
            "|    ep_len_mean      | 10.2     |\n",
            "|    ep_rew_mean      | 10.2     |\n",
            "|    exploration_rate | 0.05     |\n",
            "| time/               |          |\n",
            "|    episodes         | 3200     |\n",
            "|    fps              | 840      |\n",
            "|    time_elapsed     | 38       |\n",
            "|    total_timesteps  | 32696    |\n",
            "| train/              |          |\n",
            "|    learning_rate    | 0.0001   |\n",
            "|    loss             | 0.0665   |\n",
            "|    n_updates        | 7423     |\n",
            "----------------------------------\n",
            "----------------------------------\n",
            "| rollout/            |          |\n",
            "|    ep_len_mean      | 14.5     |\n",
            "|    ep_rew_mean      | 14.5     |\n",
            "|    exploration_rate | 0.05     |\n",
            "| time/               |          |\n",
            "|    episodes         | 3300     |\n",
            "|    fps              | 830      |\n",
            "|    time_elapsed     | 41       |\n",
            "|    total_timesteps  | 34148    |\n",
            "| train/              |          |\n",
            "|    learning_rate    | 0.0001   |\n",
            "|    loss             | 0.0714   |\n",
            "|    n_updates        | 7786     |\n",
            "----------------------------------\n",
            "----------------------------------\n",
            "| rollout/            |          |\n",
            "|    ep_len_mean      | 18.9     |\n",
            "|    ep_rew_mean      | 18.9     |\n",
            "|    exploration_rate | 0.05     |\n",
            "| time/               |          |\n",
            "|    episodes         | 3400     |\n",
            "|    fps              | 827      |\n",
            "|    time_elapsed     | 43       |\n",
            "|    total_timesteps  | 36043    |\n",
            "| train/              |          |\n",
            "|    learning_rate    | 0.0001   |\n",
            "|    loss             | 0.0443   |\n",
            "|    n_updates        | 8260     |\n",
            "----------------------------------\n",
            "----------------------------------\n",
            "| rollout/            |          |\n",
            "|    ep_len_mean      | 20       |\n",
            "|    ep_rew_mean      | 20       |\n",
            "|    exploration_rate | 0.05     |\n",
            "| time/               |          |\n",
            "|    episodes         | 3500     |\n",
            "|    fps              | 826      |\n",
            "|    time_elapsed     | 46       |\n",
            "|    total_timesteps  | 38042    |\n",
            "| train/              |          |\n",
            "|    learning_rate    | 0.0001   |\n",
            "|    loss             | 0.0373   |\n",
            "|    n_updates        | 8760     |\n",
            "----------------------------------\n",
            "----------------------------------\n",
            "| rollout/            |          |\n",
            "|    ep_len_mean      | 90.7     |\n",
            "|    ep_rew_mean      | 90.7     |\n",
            "|    exploration_rate | 0.05     |\n",
            "| time/               |          |\n",
            "|    episodes         | 3600     |\n",
            "|    fps              | 815      |\n",
            "|    time_elapsed     | 57       |\n",
            "|    total_timesteps  | 47110    |\n",
            "| train/              |          |\n",
            "|    learning_rate    | 0.0001   |\n",
            "|    loss             | 0.112    |\n",
            "|    n_updates        | 11027    |\n",
            "----------------------------------\n"
          ]
        },
        {
          "output_type": "display_data",
          "data": {
            "text/plain": [],
            "text/html": [
              "<pre style=\"white-space:pre;overflow-x:auto;line-height:normal;font-family:Menlo,'DejaVu Sans Mono',consolas,'Courier New',monospace\"></pre>\n"
            ]
          },
          "metadata": {}
        },
        {
          "output_type": "execute_result",
          "data": {
            "text/plain": [
              "<stable_baselines3.dqn.dqn.DQN at 0x7e27bb095a90>"
            ]
          },
          "metadata": {},
          "execution_count": 16
        }
      ],
      "source": [
        "# Train the agent for 50000 steps\n",
        "dqn_mlp.learn(total_timesteps=50000, log_interval=100, progress_bar=True)"
      ]
    },
    {
      "cell_type": "code",
      "execution_count": null,
      "metadata": {
        "id": "uowI-OkYvE3S",
        "outputId": "68101a81-aecc-46fa-d2e2-0fe4e0d6cdee",
        "colab": {
          "base_uri": "https://localhost:8080/",
          "height": 599
        }
      },
      "outputs": [
        {
          "output_type": "stream",
          "name": "stdout",
          "text": [
            "Mean reward: 71.9 Std reward: 0.6690110294873751 Num episodes: 100\n"
          ]
        },
        {
          "output_type": "stream",
          "name": "stderr",
          "text": [
            "WARNING:py.warnings:/tmp/ipython-input-1596058116.py:26: RuntimeWarning: invalid value encountered in scalar divide\n",
            "  std_episode_reward = np.std(all_episode_rewards) / np.sqrt(num_episodes - 1)\n",
            "\n"
          ]
        },
        {
          "output_type": "stream",
          "name": "stdout",
          "text": [
            "Mean reward: 71.0 Std reward: nan Num episodes: 1\n",
            "Moviepy - Building video temp-{start}.mp4.\n",
            "Moviepy - Writing video temp-{start}.mp4\n",
            "\n"
          ]
        },
        {
          "output_type": "stream",
          "name": "stderr",
          "text": []
        },
        {
          "output_type": "stream",
          "name": "stdout",
          "text": [
            "Moviepy - Done !\n",
            "Moviepy - video ready temp-{start}.mp4\n"
          ]
        },
        {
          "output_type": "display_data",
          "data": {
            "text/plain": [
              "<IPython.core.display.Video object>"
            ],
            "text/html": [
              "<video controls  >\n",
              " <source src=\"data:video/mp4;base64,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\" type=\"video/mp4\">\n",
              " Your browser does not support the video tag.\n",
              " </video>"
            ]
          },
          "metadata": {}
        }
      ],
      "source": [
        "# Evaluate the trained models\n",
        "dqn_mlp_mean, dqn_mlp_std = evaluate(env, dqn_mlp)\n",
        "\n",
        "_, _ = evaluate(env_eval, dqn_mlp, num_episodes=1)\n",
        "env_eval.play()"
      ]
    },
    {
      "cell_type": "markdown",
      "metadata": {
        "id": "ljAhob-XvE3S"
      },
      "source": [
        "Let us now plot the final results."
      ]
    },
    {
      "cell_type": "code",
      "execution_count": null,
      "metadata": {
        "id": "kBNTTXoavE3S",
        "outputId": "c001056e-a9f4-48a0-e35c-061be03b6477",
        "colab": {
          "base_uri": "https://localhost:8080/",
          "height": 540
        }
      },
      "outputs": [
        {
          "output_type": "display_data",
          "data": {
            "text/plain": [
              "<Figure size 640x480 with 1 Axes>"
            ],
            "image/png": "[encoded data removed]"
          },
          "metadata": {}
        }
      ],
      "source": [
        "import matplotlib.pyplot as plt\n",
        "\n",
        "#Plot the results\n",
        "fig = plt.figure()\n",
        "ax = fig.add_axes([0,0,1,1])\n",
        "\n",
        "algs = ['Random', 'Reactive', 'PPO MLP', 'PPO Linear', 'DQN']\n",
        "means = [uniform_policy_mean, reactive_policy_mean, ppo_mlp_mean, ppo_linear_mean, dqn_mlp_mean]\n",
        "errors = [uniform_policy_std, reactive_policy_std, ppo_mlp_std, ppo_linear_std, dqn_mlp_std]\n",
        "\n",
        "ax.bar(algs, means, yerr=errors, align='center', alpha=0.5, ecolor='black', capsize=10)\n",
        "plt.show()"
      ]
    }
  ],
  "metadata": {
    "accelerator": "GPU",
    "colab": {
      "provenance": [],
      "toc_visible": true,
      "include_colab_link": true
    },
    "kernelspec": {
      "display_name": "Python 3",
      "language": "python",
      "name": "python3"
    },
    "language_info": {
      "codemirror_mode": {
        "name": "ipython",
        "version": 3
      },
      "file_extension": ".py",
      "mimetype": "text/x-python",
      "name": "python",
      "nbconvert_exporter": "python",
      "pygments_lexer": "ipython3",
      "version": "3.8.10"
    },
    "widgets": {
      "application/vnd.jupyter.widget-state+json": {
        "7fb91cf4f3f34e64a0c6cc30e94e4bf2": {
          "model_module": "@jupyter-widgets/output",
          "model_name": "OutputModel",
          "model_module_version": "1.0.0",
          "state": {
            "_dom_classes": [],
            "_model_module": "@jupyter-widgets/output",
            "_model_module_version": "1.0.0",
            "_model_name": "OutputModel",
            "_view_count": null,
            "_view_module": "@jupyter-widgets/output",
            "_view_module_version": "1.0.0",
            "_view_name": "OutputView",
            "layout": "IPY_MODEL_002fee0ade7142efbae567a2a487dd1e",
            "msg_id": "",
            "outputs": [
              {
                "output_type": "display_data",
                "data": {
                  "text/plain": "\u001b[35m 100%\u001b[0m \u001b[38;2;114;156;31m━━━━━━━━━━━━━━━━━━━━━━━━━━━━━━━━━━━━━━━━━━━━━━━━━━━━━━━━━━━━━\u001b[0m \u001b[32m51,148/50,000 \u001b[0m [ \u001b[33m0:01:56\u001b[0m < \u001b[36m0:00:00\u001b[0m , \u001b[31m456 it/s\u001b[0m ]\n",
                  "text/html": "<pre style=\"white-space:pre;overflow-x:auto;line-height:normal;font-family:Menlo,'DejaVu Sans Mono',consolas,'Courier New',monospace\"><span style=\"color: #800080; text-decoration-color: #800080\"> 100%</span> <span style=\"color: #729c1f; text-decoration-color: #729c1f\">━━━━━━━━━━━━━━━━━━━━━━━━━━━━━━━━━━━━━━━━━━━━━━━━━━━━━━━━━━━━━</span> <span style=\"color: #008000; text-decoration-color: #008000\">51,148/50,000 </span> [ <span style=\"color: #808000; text-decoration-color: #808000\">0:01:56</span> &lt; <span style=\"color: #008080; text-decoration-color: #008080\">0:00:00</span> , <span style=\"color: #800000; text-decoration-color: #800000\">456 it/s</span> ]\n</pre>\n"
                },
                "metadata": {}
              }
            ]
          }
        },
        "002fee0ade7142efbae567a2a487dd1e": {
          "model_module": "@jupyter-widgets/base",
          "model_name": "LayoutModel",
          "model_module_version": "1.2.0",
          "state": {
            "_model_module": "@jupyter-widgets/base",
            "_model_module_version": "1.2.0",
            "_model_name": "LayoutModel",
            "_view_count": null,
            "_view_module": "@jupyter-widgets/base",
            "_view_module_version": "1.2.0",
            "_view_name": "LayoutView",
            "align_content": null,
            "align_items": null,
            "align_self": null,
            "border": null,
            "bottom": null,
            "display": null,
            "flex": null,
            "flex_flow": null,
            "grid_area": null,
            "grid_auto_columns": null,
            "grid_auto_flow": null,
            "grid_auto_rows": null,
            "grid_column": null,
            "grid_gap": null,
            "grid_row": null,
            "grid_template_areas": null,
            "grid_template_columns": null,
            "grid_template_rows": null,
            "height": null,
            "justify_content": null,
            "justify_items": null,
            "left": null,
            "margin": null,
            "max_height": null,
            "max_width": null,
            "min_height": null,
            "min_width": null,
            "object_fit": null,
            "object_position": null,
            "order": null,
            "overflow": null,
            "overflow_x": null,
            "overflow_y": null,
            "padding": null,
            "right": null,
            "top": null,
            "visibility": null,
            "width": null
          }
        },
        "75eefde7fafd4f7781951b3688eb1255": {
          "model_module": "@jupyter-widgets/output",
          "model_name": "OutputModel",
          "model_module_version": "1.0.0",
          "state": {
            "_dom_classes": [],
            "_model_module": "@jupyter-widgets/output",
            "_model_module_version": "1.0.0",
            "_model_name": "OutputModel",
            "_view_count": null,
            "_view_module": "@jupyter-widgets/output",
            "_view_module_version": "1.0.0",
            "_view_name": "OutputView",
            "layout": "IPY_MODEL_f772c40d2eb44f5eae7dafb2ff86afed",
            "msg_id": "",
            "outputs": [
              {
                "output_type": "display_data",
                "data": {
                  "text/plain": "\u001b[35m 100%\u001b[0m \u001b[38;2;114;156;31m━━━━━━━━━━━━━━━━━━━━━━━━━━━━━━━━━━━━━━━━━━━━━━━━━━━━━━━━━━━━━\u001b[0m \u001b[32m51,127/50,000 \u001b[0m [ \u001b[33m0:01:35\u001b[0m < \u001b[36m0:00:00\u001b[0m , \u001b[31m547 it/s\u001b[0m ]\n",
                  "text/html": "<pre style=\"white-space:pre;overflow-x:auto;line-height:normal;font-family:Menlo,'DejaVu Sans Mono',consolas,'Courier New',monospace\"><span style=\"color: #800080; text-decoration-color: #800080\"> 100%</span> <span style=\"color: #729c1f; text-decoration-color: #729c1f\">━━━━━━━━━━━━━━━━━━━━━━━━━━━━━━━━━━━━━━━━━━━━━━━━━━━━━━━━━━━━━</span> <span style=\"color: #008000; text-decoration-color: #008000\">51,127/50,000 </span> [ <span style=\"color: #808000; text-decoration-color: #808000\">0:01:35</span> &lt; <span style=\"color: #008080; text-decoration-color: #008080\">0:00:00</span> , <span style=\"color: #800000; text-decoration-color: #800000\">547 it/s</span> ]\n</pre>\n"
                },
                "metadata": {}
              }
            ]
          }
        },
        "f772c40d2eb44f5eae7dafb2ff86afed": {
          "model_module": "@jupyter-widgets/base",
          "model_name": "LayoutModel",
          "model_module_version": "1.2.0",
          "state": {
            "_model_module": "@jupyter-widgets/base",
            "_model_module_version": "1.2.0",
            "_model_name": "LayoutModel",
            "_view_count": null,
            "_view_module": "@jupyter-widgets/base",
            "_view_module_version": "1.2.0",
            "_view_name": "LayoutView",
            "align_content": null,
            "align_items": null,
            "align_self": null,
            "border": null,
            "bottom": null,
            "display": null,
            "flex": null,
            "flex_flow": null,
            "grid_area": null,
            "grid_auto_columns": null,
            "grid_auto_flow": null,
            "grid_auto_rows": null,
            "grid_column": null,
            "grid_gap": null,
            "grid_row": null,
            "grid_template_areas": null,
            "grid_template_columns": null,
            "grid_template_rows": null,
            "height": null,
            "justify_content": null,
            "justify_items": null,
            "left": null,
            "margin": null,
            "max_height": null,
            "max_width": null,
            "min_height": null,
            "min_width": null,
            "object_fit": null,
            "object_position": null,
            "order": null,
            "overflow": null,
            "overflow_x": null,
            "overflow_y": null,
            "padding": null,
            "right": null,
            "top": null,
            "visibility": null,
            "width": null
          }
        },
        "786de64cc9484a0195f1a80339294f10": {
          "model_module": "@jupyter-widgets/output",
          "model_name": "OutputModel",
          "model_module_version": "1.0.0",
          "state": {
            "_dom_classes": [],
            "_model_module": "@jupyter-widgets/output",
            "_model_module_version": "1.0.0",
            "_model_name": "OutputModel",
            "_view_count": null,
            "_view_module": "@jupyter-widgets/output",
            "_view_module_version": "1.0.0",
            "_view_name": "OutputView",
            "layout": "IPY_MODEL_a8d4855e0e8c425681584df818534ec5",
            "msg_id": "",
            "outputs": [
              {
                "output_type": "display_data",
                "data": {
                  "text/plain": "\u001b[35m 100%\u001b[0m \u001b[38;2;249;38;114m━━━━━━━━━━━━━━━━━━━━━━━━━━━━━━━━━━━━━━━━━━━━━━━━━━━━━━━━━━━━\u001b[0m\u001b[38;2;249;38;114m╸\u001b[0m \u001b[32m49,852/50,000 \u001b[0m [ \u001b[33m0:01:01\u001b[0m < \u001b[36m0:00:01\u001b[0m , \u001b[31m777 it/s\u001b[0m ]\n",
                  "text/html": "<pre style=\"white-space:pre;overflow-x:auto;line-height:normal;font-family:Menlo,'DejaVu Sans Mono',consolas,'Courier New',monospace\"><span style=\"color: #800080; text-decoration-color: #800080\"> 100%</span> <span style=\"color: #f92672; text-decoration-color: #f92672\">━━━━━━━━━━━━━━━━━━━━━━━━━━━━━━━━━━━━━━━━━━━━━━━━━━━━━━━━━━━━╸</span> <span style=\"color: #008000; text-decoration-color: #008000\">49,852/50,000 </span> [ <span style=\"color: #808000; text-decoration-color: #808000\">0:01:01</span> &lt; <span style=\"color: #008080; text-decoration-color: #008080\">0:00:01</span> , <span style=\"color: #800000; text-decoration-color: #800000\">777 it/s</span> ]\n</pre>\n"
                },
                "metadata": {}
              }
            ]
          }
        },
        "a8d4855e0e8c425681584df818534ec5": {
          "model_module": "@jupyter-widgets/base",
          "model_name": "LayoutModel",
          "model_module_version": "1.2.0",
          "state": {
            "_model_module": "@jupyter-widgets/base",
            "_model_module_version": "1.2.0",
            "_model_name": "LayoutModel",
            "_view_count": null,
            "_view_module": "@jupyter-widgets/base",
            "_view_module_version": "1.2.0",
            "_view_name": "LayoutView",
            "align_content": null,
            "align_items": null,
            "align_self": null,
            "border": null,
            "bottom": null,
            "display": null,
            "flex": null,
            "flex_flow": null,
            "grid_area": null,
            "grid_auto_columns": null,
            "grid_auto_flow": null,
            "grid_auto_rows": null,
            "grid_column": null,
            "grid_gap": null,
            "grid_row": null,
            "grid_template_areas": null,
            "grid_template_columns": null,
            "grid_template_rows": null,
            "height": null,
            "justify_content": null,
            "justify_items": null,
            "left": null,
            "margin": null,
            "max_height": null,
            "max_width": null,
            "min_height": null,
            "min_width": null,
            "object_fit": null,
            "object_position": null,
            "order": null,
            "overflow": null,
            "overflow_x": null,
            "overflow_y": null,
            "padding": null,
            "right": null,
            "top": null,
            "visibility": null,
            "width": null
          }
        }
      }
    }
  },
  "nbformat": 4,
  "nbformat_minor": 0
}