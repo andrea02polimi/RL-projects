{
  "cells": [
    {
      "cell_type": "markdown",
      "metadata": {
        "id": "view-in-github",
        "colab_type": "text"
      },
      "source": [
        "<a href=\"https://colab.research.google.com/github/andrea02polimi/RL-projects/blob/main/03_gpomdp_solution.ipynb\" target=\"_parent\"><img src=\"https://colab.research.google.com/assets/colab-badge.svg\" alt=\"Open In Colab\"/></a>"
      ]
    },
    {
      "cell_type": "markdown",
      "metadata": {
        "id": "AoxOjIlOImwx"
      },
      "source": [
        "# G(PO)MDP\n",
        "\n",
        "This notebook is inspired to the Stable Baselines3 tutorial available at [https://github.com/araffin/rl-tutorial-jnrr19](https://github.com/araffin/rl-tutorial-jnrr19).\n",
        "\n",
        "\n",
        "## Introduction\n",
        "\n",
        "In this notebook, we will learn how to build a customized environment with **Gymnasium**.\n",
        "\n",
        "### Links\n",
        "\n",
        "Gymnasium Github: [https://github.com/Farama-Foundation/Gymnasium](https://github.com/Farama-Foundation/Gymnasium)\n",
        "\n",
        "Gymnasium Documentation: [https://gymnasium.farama.org/index.html](https://gymnasium.farama.org/index.html#)\n",
        "\n",
        "Stable Baselines 3 Github:[https://github.com/DLR-RM/stable-baselines3](https://github.com/DLR-RM/stable-baselines3)\n",
        "\n",
        "Stable Baseline 3 Documentation: [https://stable-baselines3.readthedocs.io/en/master/](https://stable-baselines3.readthedocs.io/en/master/)\n",
        "\n",
        "## Install Gymnasium and Stable Baselines3 Using Pip"
      ]
    },
    {
      "cell_type": "code",
      "execution_count": 1,
      "metadata": {
        "id": "Sp8rSS4DIhEV",
        "outputId": "1278af47-f863-4e14-f9e4-2b8eaf521f5c",
        "colab": {
          "base_uri": "https://localhost:8080/"
        }
      },
      "outputs": [
        {
          "output_type": "stream",
          "name": "stdout",
          "text": [
            "Requirement already satisfied: gymnasium in /usr/local/lib/python3.12/dist-packages (1.2.1)\n",
            "Requirement already satisfied: numpy>=1.21.0 in /usr/local/lib/python3.12/dist-packages (from gymnasium) (2.0.2)\n",
            "Requirement already satisfied: cloudpickle>=1.2.0 in /usr/local/lib/python3.12/dist-packages (from gymnasium) (3.1.1)\n",
            "Requirement already satisfied: typing-extensions>=4.3.0 in /usr/local/lib/python3.12/dist-packages (from gymnasium) (4.15.0)\n",
            "Requirement already satisfied: farama-notifications>=0.0.1 in /usr/local/lib/python3.12/dist-packages (from gymnasium) (0.0.4)\n",
            "Collecting renderlab\n",
            "  Downloading renderlab-0.1.20230421184216-py3-none-any.whl.metadata (1.9 kB)\n",
            "Requirement already satisfied: moviepy in /usr/local/lib/python3.12/dist-packages (from renderlab) (1.0.3)\n",
            "Requirement already satisfied: gymnasium in /usr/local/lib/python3.12/dist-packages (from renderlab) (1.2.1)\n",
            "Requirement already satisfied: numpy>=1.21.0 in /usr/local/lib/python3.12/dist-packages (from gymnasium->renderlab) (2.0.2)\n",
            "Requirement already satisfied: cloudpickle>=1.2.0 in /usr/local/lib/python3.12/dist-packages (from gymnasium->renderlab) (3.1.1)\n",
            "Requirement already satisfied: typing-extensions>=4.3.0 in /usr/local/lib/python3.12/dist-packages (from gymnasium->renderlab) (4.15.0)\n",
            "Requirement already satisfied: farama-notifications>=0.0.1 in /usr/local/lib/python3.12/dist-packages (from gymnasium->renderlab) (0.0.4)\n",
            "Requirement already satisfied: decorator<5.0,>=4.0.2 in /usr/local/lib/python3.12/dist-packages (from moviepy->renderlab) (4.4.2)\n",
            "Requirement already satisfied: tqdm<5.0,>=4.11.2 in /usr/local/lib/python3.12/dist-packages (from moviepy->renderlab) (4.67.1)\n",
            "Requirement already satisfied: requests<3.0,>=2.8.1 in /usr/local/lib/python3.12/dist-packages (from moviepy->renderlab) (2.32.4)\n",
            "Requirement already satisfied: proglog<=1.0.0 in /usr/local/lib/python3.12/dist-packages (from moviepy->renderlab) (0.1.12)\n",
            "Requirement already satisfied: imageio<3.0,>=2.5 in /usr/local/lib/python3.12/dist-packages (from moviepy->renderlab) (2.37.0)\n",
            "Requirement already satisfied: imageio-ffmpeg>=0.2.0 in /usr/local/lib/python3.12/dist-packages (from moviepy->renderlab) (0.6.0)\n",
            "Requirement already satisfied: pillow>=8.3.2 in /usr/local/lib/python3.12/dist-packages (from imageio<3.0,>=2.5->moviepy->renderlab) (11.3.0)\n",
            "Requirement already satisfied: charset_normalizer<4,>=2 in /usr/local/lib/python3.12/dist-packages (from requests<3.0,>=2.8.1->moviepy->renderlab) (3.4.3)\n",
            "Requirement already satisfied: idna<4,>=2.5 in /usr/local/lib/python3.12/dist-packages (from requests<3.0,>=2.8.1->moviepy->renderlab) (3.10)\n",
            "Requirement already satisfied: urllib3<3,>=1.21.1 in /usr/local/lib/python3.12/dist-packages (from requests<3.0,>=2.8.1->moviepy->renderlab) (2.5.0)\n",
            "Requirement already satisfied: certifi>=2017.4.17 in /usr/local/lib/python3.12/dist-packages (from requests<3.0,>=2.8.1->moviepy->renderlab) (2025.10.5)\n",
            "Downloading renderlab-0.1.20230421184216-py3-none-any.whl (4.0 kB)\n",
            "Installing collected packages: renderlab\n",
            "Successfully installed renderlab-0.1.20230421184216\n",
            "Collecting stable-baselines3[extra]\n",
            "  Downloading stable_baselines3-2.7.0-py3-none-any.whl.metadata (4.8 kB)\n",
            "Requirement already satisfied: gymnasium<1.3.0,>=0.29.1 in /usr/local/lib/python3.12/dist-packages (from stable-baselines3[extra]) (1.2.1)\n",
            "Requirement already satisfied: numpy<3.0,>=1.20 in /usr/local/lib/python3.12/dist-packages (from stable-baselines3[extra]) (2.0.2)\n",
            "Requirement already satisfied: torch<3.0,>=2.3 in /usr/local/lib/python3.12/dist-packages (from stable-baselines3[extra]) (2.8.0+cu126)\n",
            "Requirement already satisfied: cloudpickle in /usr/local/lib/python3.12/dist-packages (from stable-baselines3[extra]) (3.1.1)\n",
            "Requirement already satisfied: pandas in /usr/local/lib/python3.12/dist-packages (from stable-baselines3[extra]) (2.2.2)\n",
            "Requirement already satisfied: matplotlib in /usr/local/lib/python3.12/dist-packages (from stable-baselines3[extra]) (3.10.0)\n",
            "Requirement already satisfied: opencv-python in /usr/local/lib/python3.12/dist-packages (from stable-baselines3[extra]) (4.12.0.88)\n",
            "Requirement already satisfied: pygame in /usr/local/lib/python3.12/dist-packages (from stable-baselines3[extra]) (2.6.1)\n",
            "Requirement already satisfied: tensorboard>=2.9.1 in /usr/local/lib/python3.12/dist-packages (from stable-baselines3[extra]) (2.19.0)\n",
            "Requirement already satisfied: psutil in /usr/local/lib/python3.12/dist-packages (from stable-baselines3[extra]) (5.9.5)\n",
            "Requirement already satisfied: tqdm in /usr/local/lib/python3.12/dist-packages (from stable-baselines3[extra]) (4.67.1)\n",
            "Requirement already satisfied: rich in /usr/local/lib/python3.12/dist-packages (from stable-baselines3[extra]) (13.9.4)\n",
            "Requirement already satisfied: ale-py>=0.9.0 in /usr/local/lib/python3.12/dist-packages (from stable-baselines3[extra]) (0.11.2)\n",
            "Requirement already satisfied: pillow in /usr/local/lib/python3.12/dist-packages (from stable-baselines3[extra]) (11.3.0)\n",
            "Requirement already satisfied: typing-extensions>=4.3.0 in /usr/local/lib/python3.12/dist-packages (from gymnasium<1.3.0,>=0.29.1->stable-baselines3[extra]) (4.15.0)\n",
            "Requirement already satisfied: farama-notifications>=0.0.1 in /usr/local/lib/python3.12/dist-packages (from gymnasium<1.3.0,>=0.29.1->stable-baselines3[extra]) (0.0.4)\n",
            "Requirement already satisfied: absl-py>=0.4 in /usr/local/lib/python3.12/dist-packages (from tensorboard>=2.9.1->stable-baselines3[extra]) (1.4.0)\n",
            "Requirement already satisfied: grpcio>=1.48.2 in /usr/local/lib/python3.12/dist-packages (from tensorboard>=2.9.1->stable-baselines3[extra]) (1.75.1)\n",
            "Requirement already satisfied: markdown>=2.6.8 in /usr/local/lib/python3.12/dist-packages (from tensorboard>=2.9.1->stable-baselines3[extra]) (3.9)\n",
            "Requirement already satisfied: packaging in /usr/local/lib/python3.12/dist-packages (from tensorboard>=2.9.1->stable-baselines3[extra]) (25.0)\n",
            "Requirement already satisfied: protobuf!=4.24.0,>=3.19.6 in /usr/local/lib/python3.12/dist-packages (from tensorboard>=2.9.1->stable-baselines3[extra]) (5.29.5)\n",
            "Requirement already satisfied: setuptools>=41.0.0 in /usr/local/lib/python3.12/dist-packages (from tensorboard>=2.9.1->stable-baselines3[extra]) (75.2.0)\n",
            "Requirement already satisfied: six>1.9 in /usr/local/lib/python3.12/dist-packages (from tensorboard>=2.9.1->stable-baselines3[extra]) (1.17.0)\n",
            "Requirement already satisfied: tensorboard-data-server<0.8.0,>=0.7.0 in /usr/local/lib/python3.12/dist-packages (from tensorboard>=2.9.1->stable-baselines3[extra]) (0.7.2)\n",
            "Requirement already satisfied: werkzeug>=1.0.1 in /usr/local/lib/python3.12/dist-packages (from tensorboard>=2.9.1->stable-baselines3[extra]) (3.1.3)\n",
            "Requirement already satisfied: filelock in /usr/local/lib/python3.12/dist-packages (from torch<3.0,>=2.3->stable-baselines3[extra]) (3.20.0)\n",
            "Requirement already satisfied: sympy>=1.13.3 in /usr/local/lib/python3.12/dist-packages (from torch<3.0,>=2.3->stable-baselines3[extra]) (1.13.3)\n",
            "Requirement already satisfied: networkx in /usr/local/lib/python3.12/dist-packages (from torch<3.0,>=2.3->stable-baselines3[extra]) (3.5)\n",
            "Requirement already satisfied: jinja2 in /usr/local/lib/python3.12/dist-packages (from torch<3.0,>=2.3->stable-baselines3[extra]) (3.1.6)\n",
            "Requirement already satisfied: fsspec in /usr/local/lib/python3.12/dist-packages (from torch<3.0,>=2.3->stable-baselines3[extra]) (2025.3.0)\n",
            "Requirement already satisfied: nvidia-cuda-nvrtc-cu12==12.6.77 in /usr/local/lib/python3.12/dist-packages (from torch<3.0,>=2.3->stable-baselines3[extra]) (12.6.77)\n",
            "Requirement already satisfied: nvidia-cuda-runtime-cu12==12.6.77 in /usr/local/lib/python3.12/dist-packages (from torch<3.0,>=2.3->stable-baselines3[extra]) (12.6.77)\n",
            "Requirement already satisfied: nvidia-cuda-cupti-cu12==12.6.80 in /usr/local/lib/python3.12/dist-packages (from torch<3.0,>=2.3->stable-baselines3[extra]) (12.6.80)\n",
            "Requirement already satisfied: nvidia-cudnn-cu12==9.10.2.21 in /usr/local/lib/python3.12/dist-packages (from torch<3.0,>=2.3->stable-baselines3[extra]) (9.10.2.21)\n",
            "Requirement already satisfied: nvidia-cublas-cu12==12.6.4.1 in /usr/local/lib/python3.12/dist-packages (from torch<3.0,>=2.3->stable-baselines3[extra]) (12.6.4.1)\n",
            "Requirement already satisfied: nvidia-cufft-cu12==11.3.0.4 in /usr/local/lib/python3.12/dist-packages (from torch<3.0,>=2.3->stable-baselines3[extra]) (11.3.0.4)\n",
            "Requirement already satisfied: nvidia-curand-cu12==10.3.7.77 in /usr/local/lib/python3.12/dist-packages (from torch<3.0,>=2.3->stable-baselines3[extra]) (10.3.7.77)\n",
            "Requirement already satisfied: nvidia-cusolver-cu12==11.7.1.2 in /usr/local/lib/python3.12/dist-packages (from torch<3.0,>=2.3->stable-baselines3[extra]) (11.7.1.2)\n",
            "Requirement already satisfied: nvidia-cusparse-cu12==12.5.4.2 in /usr/local/lib/python3.12/dist-packages (from torch<3.0,>=2.3->stable-baselines3[extra]) (12.5.4.2)\n",
            "Requirement already satisfied: nvidia-cusparselt-cu12==0.7.1 in /usr/local/lib/python3.12/dist-packages (from torch<3.0,>=2.3->stable-baselines3[extra]) (0.7.1)\n",
            "Requirement already satisfied: nvidia-nccl-cu12==2.27.3 in /usr/local/lib/python3.12/dist-packages (from torch<3.0,>=2.3->stable-baselines3[extra]) (2.27.3)\n",
            "Requirement already satisfied: nvidia-nvtx-cu12==12.6.77 in /usr/local/lib/python3.12/dist-packages (from torch<3.0,>=2.3->stable-baselines3[extra]) (12.6.77)\n",
            "Requirement already satisfied: nvidia-nvjitlink-cu12==12.6.85 in /usr/local/lib/python3.12/dist-packages (from torch<3.0,>=2.3->stable-baselines3[extra]) (12.6.85)\n",
            "Requirement already satisfied: nvidia-cufile-cu12==1.11.1.6 in /usr/local/lib/python3.12/dist-packages (from torch<3.0,>=2.3->stable-baselines3[extra]) (1.11.1.6)\n",
            "Requirement already satisfied: triton==3.4.0 in /usr/local/lib/python3.12/dist-packages (from torch<3.0,>=2.3->stable-baselines3[extra]) (3.4.0)\n",
            "Requirement already satisfied: contourpy>=1.0.1 in /usr/local/lib/python3.12/dist-packages (from matplotlib->stable-baselines3[extra]) (1.3.3)\n",
            "Requirement already satisfied: cycler>=0.10 in /usr/local/lib/python3.12/dist-packages (from matplotlib->stable-baselines3[extra]) (0.12.1)\n",
            "Requirement already satisfied: fonttools>=4.22.0 in /usr/local/lib/python3.12/dist-packages (from matplotlib->stable-baselines3[extra]) (4.60.1)\n",
            "Requirement already satisfied: kiwisolver>=1.3.1 in /usr/local/lib/python3.12/dist-packages (from matplotlib->stable-baselines3[extra]) (1.4.9)\n",
            "Requirement already satisfied: pyparsing>=2.3.1 in /usr/local/lib/python3.12/dist-packages (from matplotlib->stable-baselines3[extra]) (3.2.5)\n",
            "Requirement already satisfied: python-dateutil>=2.7 in /usr/local/lib/python3.12/dist-packages (from matplotlib->stable-baselines3[extra]) (2.9.0.post0)\n",
            "Requirement already satisfied: pytz>=2020.1 in /usr/local/lib/python3.12/dist-packages (from pandas->stable-baselines3[extra]) (2025.2)\n",
            "Requirement already satisfied: tzdata>=2022.7 in /usr/local/lib/python3.12/dist-packages (from pandas->stable-baselines3[extra]) (2025.2)\n",
            "Requirement already satisfied: markdown-it-py>=2.2.0 in /usr/local/lib/python3.12/dist-packages (from rich->stable-baselines3[extra]) (4.0.0)\n",
            "Requirement already satisfied: pygments<3.0.0,>=2.13.0 in /usr/local/lib/python3.12/dist-packages (from rich->stable-baselines3[extra]) (2.19.2)\n",
            "Requirement already satisfied: mdurl~=0.1 in /usr/local/lib/python3.12/dist-packages (from markdown-it-py>=2.2.0->rich->stable-baselines3[extra]) (0.1.2)\n",
            "Requirement already satisfied: mpmath<1.4,>=1.1.0 in /usr/local/lib/python3.12/dist-packages (from sympy>=1.13.3->torch<3.0,>=2.3->stable-baselines3[extra]) (1.3.0)\n",
            "Requirement already satisfied: MarkupSafe>=2.1.1 in /usr/local/lib/python3.12/dist-packages (from werkzeug>=1.0.1->tensorboard>=2.9.1->stable-baselines3[extra]) (3.0.3)\n",
            "Downloading stable_baselines3-2.7.0-py3-none-any.whl (187 kB)\n",
            "\u001b[2K   \u001b[90m━━━━━━━━━━━━━━━━━━━━━━━━━━━━━━━━━━━━━━━━\u001b[0m \u001b[32m187.2/187.2 kB\u001b[0m \u001b[31m7.4 MB/s\u001b[0m eta \u001b[36m0:00:00\u001b[0m\n",
            "\u001b[?25hInstalling collected packages: stable-baselines3\n",
            "Successfully installed stable-baselines3-2.7.0\n"
          ]
        }
      ],
      "source": [
        "!pip install gymnasium\n",
        "!pip install renderlab  #For rendering\n",
        "!pip install stable-baselines3[extra]"
      ]
    },
    {
      "cell_type": "code",
      "execution_count": 2,
      "metadata": {
        "id": "hH_BePqY-wkD",
        "outputId": "99836c44-28e7-428e-8b20-1eaacde6f078",
        "colab": {
          "base_uri": "https://localhost:8080/"
        }
      },
      "outputs": [
        {
          "output_type": "stream",
          "name": "stderr",
          "text": [
            "/usr/local/lib/python3.12/dist-packages/moviepy/config_defaults.py:47: SyntaxWarning: invalid escape sequence '\\P'\n",
            "  IMAGEMAGICK_BINARY = r\"C:\\Program Files\\ImageMagick-6.8.8-Q16\\magick.exe\"\n",
            "/usr/local/lib/python3.12/dist-packages/moviepy/video/io/ffmpeg_reader.py:294: SyntaxWarning: invalid escape sequence '\\d'\n",
            "  lines_video = [l for l in lines if ' Video: ' in l and re.search('\\d+x\\d+', l)]\n",
            "/usr/local/lib/python3.12/dist-packages/moviepy/video/io/ffmpeg_reader.py:367: SyntaxWarning: invalid escape sequence '\\d'\n",
            "  rotation_lines = [l for l in lines if 'rotate          :' in l and re.search('\\d+$', l)]\n",
            "/usr/local/lib/python3.12/dist-packages/moviepy/video/io/ffmpeg_reader.py:370: SyntaxWarning: invalid escape sequence '\\d'\n",
            "  match = re.search('\\d+$', rotation_line)\n",
            "WARNING:py.warnings:/usr/local/lib/python3.12/dist-packages/moviepy/video/io/sliders.py:61: SyntaxWarning: \"is\" with 'str' literal. Did you mean \"==\"?\n",
            "  if event.key is 'enter':\n",
            "\n",
            "Gym has been unmaintained since 2022 and does not support NumPy 2.0 amongst other critical functionality.\n",
            "Please upgrade to Gymnasium, the maintained drop-in replacement of Gym, or contact the authors of your software and request that they upgrade.\n",
            "See the migration guide at https://gymnasium.farama.org/introduction/migration_guide/ for additional information.\n",
            "WARNING:py.warnings:/usr/local/lib/python3.12/dist-packages/jupyter_client/session.py:203: DeprecationWarning: datetime.datetime.utcnow() is deprecated and scheduled for removal in a future version. Use timezone-aware objects to represent datetimes in UTC: datetime.datetime.now(datetime.UTC).\n",
            "  return datetime.utcnow().replace(tzinfo=utc)\n",
            "\n"
          ]
        },
        {
          "output_type": "stream",
          "name": "stdout",
          "text": [
            "1.2.1\n",
            "2.7.0\n"
          ]
        }
      ],
      "source": [
        "import gymnasium as gym\n",
        "import renderlab\n",
        "import stable_baselines3\n",
        "\n",
        "print(gym.__version__)\n",
        "print(stable_baselines3.__version__)"
      ]
    },
    {
      "cell_type": "code",
      "execution_count": 3,
      "metadata": {
        "id": "ixSc2pjd-wkF"
      },
      "outputs": [],
      "source": [
        "def evaluate(env, policy, gamma=1., num_episodes=100):\n",
        "    \"\"\"\n",
        "    Evaluate a RL agent\n",
        "    :param env: (Env object) the Gym environment\n",
        "    :param policy: (BasePolicy object) the policy in stable_baselines3\n",
        "    :param gamma: (float) the discount factor\n",
        "    :param num_episodes: (int) number of episodes to evaluate it\n",
        "    :return: (float) Mean reward for the last num_episodes\n",
        "    \"\"\"\n",
        "    all_episode_rewards = []\n",
        "    for i in range(num_episodes): # iterate over the episodes\n",
        "        episode_rewards = []\n",
        "        done = False\n",
        "        discounter = 1.\n",
        "        obs, _ = env.reset()\n",
        "        while not done: # iterate over the steps until termination\n",
        "            action, _ = policy.predict(obs)\n",
        "            obs, reward, terminated, truncated, _ = env.step(action)\n",
        "            done = terminated or truncated\n",
        "            episode_rewards.append(reward * discounter) # compute discounted reward\n",
        "            discounter *= gamma\n",
        "\n",
        "        all_episode_rewards.append(sum(episode_rewards))\n",
        "\n",
        "    mean_episode_reward = np.mean(all_episode_rewards)\n",
        "    std_episode_reward = np.std(all_episode_rewards) / np.sqrt(num_episodes - 1)\n",
        "    print(\"Mean reward:\", mean_episode_reward,\n",
        "          \"Std reward:\", std_episode_reward,\n",
        "          \"Num episodes:\", num_episodes)\n",
        "\n",
        "    return mean_episode_reward, std_episode_reward"
      ]
    },
    {
      "cell_type": "markdown",
      "metadata": {
        "id": "INYVssHb-wkG"
      },
      "source": [
        "## Plotting\n",
        "\n",
        "A helper function to plot the learning curves."
      ]
    },
    {
      "cell_type": "code",
      "execution_count": 4,
      "metadata": {
        "id": "LlECSDkJ-wkG"
      },
      "outputs": [],
      "source": [
        "import matplotlib.pyplot as plt\n",
        "\n",
        "\n",
        "def plot_results(results): # definizione della funzione plot_result che riceve un parametro results\n",
        "    plt.figure() # crea una finestra o un'area vuota su cui disegnare il grafico\n",
        "\n",
        "    _mean = []\n",
        "    _std = []\n",
        "    for m, s in results:\n",
        "        _mean.append(m)\n",
        "        _std.append(s)\n",
        "\n",
        "    # convertire liste python un array NumPy\n",
        "    _mean = np.array(_mean)\n",
        "    _std = np.array(_std)\n",
        "\n",
        "    ts = np.arange(len(_mean))\n",
        "    plt.plot(ts, _mean, label='G(PO)MDP')\n",
        "    plt.fill_between(ts, _mean-_std, _mean+_std, alpha=.2)\n",
        "\n",
        "    plt.xlabel('Trajectories')\n",
        "    plt.ylabel('Average return')\n",
        "    plt.legend(loc='lower right')\n",
        "\n",
        "    plt.show()"
      ]
    },
    {
      "cell_type": "markdown",
      "metadata": {
        "id": "f5LmgBQP-wkH"
      },
      "source": [
        "## G(PO)MDP\n",
        "\n",
        "![ss](https://github.com/albertometelli/rl-phd-2024/blob/main/gpomdp.png?raw=1)\n",
        "\n",
        "**References**\n",
        "\n",
        "Baxter, Jonathan, and Peter L. Bartlett. \"Infinite-horizon policy-gradient estimation.\" Journal of Artificial Intelligence Research 15 (2001): 319-350."
      ]
    },
    {
      "cell_type": "markdown",
      "metadata": {
        "id": "lyQq6UjY-wkI"
      },
      "source": [
        "## Policy\n",
        "\n",
        "We will use a **Gaussian policy**, linear in the state variables and with fixed (non-learnable) standard deviation.\n",
        "\n",
        "$$\n",
        "\\pi_{\\boldsymbol{\\theta}}(a|\\mathbf{s}) = N(a| \\boldsymbol{\\theta}^T \\mathbf{s}, \\sigma^2)\n",
        "$$\n",
        "\n",
        "The policy must implement the usual `predict` method and some additional methods for computing the policy gradient. Specifically, we will need a `grad_log` method to return the gradient of the logarithm of the policy (the score):\n",
        "\n",
        "$$\n",
        "\\nabla_{\\boldsymbol{\\theta}} \\log \\pi_{\\boldsymbol{\\theta}}(a|\\mathbf{s})= \\frac{(a - \\boldsymbol{\\theta}^T \\mathbf{s})\\mathbf{s}}{\\sigma^2}\n",
        "$$"
      ]
    },
    {
      "cell_type": "markdown",
      "metadata": {
        "id": "Yl621Jxc-wkJ"
      },
      "source": [
        "## Exercise 1\n",
        "\n",
        "Complete the implementation of the methods `predict` and `grad_log`"
      ]
    },
    {
      "cell_type": "code",
      "execution_count": 5,
      "metadata": {
        "id": "lpgkHHxF-wkJ"
      },
      "outputs": [],
      "source": [
        "class GaussianPolicy:\n",
        "\n",
        "    def __init__(self, dim, std=0.1):\n",
        "        \"\"\"\n",
        "        :param dim: number of state variables\n",
        "        :param std: fixed standard deviation\n",
        "        \"\"\"\n",
        "\n",
        "        self.std = std\n",
        "        self.dim = dim\n",
        "        self.theta = np.zeros((dim,))  # zero initialization\n",
        "\n",
        "    def get_theta(self):\n",
        "        return self.theta\n",
        "\n",
        "    def set_theta(self, value):\n",
        "        self.theta = value\n",
        "\n",
        "    def predict(self, obs):\n",
        "        \"\"\"\n",
        "        :param obs: (ndarray) the state observation (dim,)\n",
        "        :return: the sampled action and the same observation\n",
        "        \"\"\"\n",
        "        action = 0.\n",
        "\n",
        "        #TODO\n",
        "\n",
        "        return np.array([action]), obs\n",
        "\n",
        "    def grad_log(self, obs, action):\n",
        "        \"\"\"\n",
        "        :param obs: (ndarray) the state observation (dim,)\n",
        "        :param action: (float) the action\n",
        "        :return: (ndarray) the score of the policy (dim,)\n",
        "        \"\"\"\n",
        "        grad_log = 0.\n",
        "\n",
        "        #TODO\n",
        "\n",
        "        return grad_log"
      ]
    },
    {
      "cell_type": "markdown",
      "metadata": {
        "id": "YfOHjWrY-wkK"
      },
      "source": [
        "## Exercise 1 - Solution"
      ]
    },
    {
      "cell_type": "markdown",
      "source": [
        "(slide 29/82 06_policy_gradient)"
      ],
      "metadata": {
        "id": "x0bgGHF7zpT0"
      }
    },
    {
      "cell_type": "code",
      "execution_count": 6,
      "metadata": {
        "id": "LoaDJuBC-wkK"
      },
      "outputs": [],
      "source": [
        "class GaussianPolicy:\n",
        "\n",
        "    def __init__(self, dim, std=0.1):\n",
        "        \"\"\"\n",
        "        :param dim: number of state variables\n",
        "        :param std: fixed standard deviation\n",
        "        \"\"\"\n",
        "\n",
        "        self.std = std\n",
        "        self.dim = dim\n",
        "        self.theta = np.zeros((dim,))  # zero initializatoin\n",
        "\n",
        "    def get_theta(self):\n",
        "        return self.theta\n",
        "\n",
        "    def set_theta(self, value):\n",
        "        self.theta = value\n",
        "\n",
        "    def predict(self, obs):\n",
        "        mean = np.dot(obs, self.theta)\n",
        "        action = mean + np.random.randn() * self.std\n",
        "        return np.array([action]), obs\n",
        "\n",
        "    def grad_log(self, obs, action):\n",
        "        mean = np.dot(obs, self.theta)\n",
        "        grad_log = (action - mean) * obs / self.std ** 2\n",
        "        return grad_log # vettore: obs è vettore"
      ]
    },
    {
      "cell_type": "markdown",
      "metadata": {
        "id": "P5QDWSfP-wkL"
      },
      "source": [
        "## Training Routine\n",
        "\n",
        "We provide the already implemented skeleton of the training routine that samples at every iterations $m$ trajectories from the environment."
      ]
    },
    {
      "cell_type": "code",
      "execution_count": 8,
      "metadata": {
        "id": "QwH2vqlq-wkO"
      },
      "outputs": [],
      "source": [
        "\"\"\"\n",
        "definisce la funzione collect_rollouts che prende l'ambiente, la policy, il numero di traiettorie da raccogliere e la lunghezza massima di ogni traiettoria.\n",
        "ogni lista in ll rappresenta un singolo episodio\n",
        "\"\"\"\n",
        "def collect_rollouts(env, policy, m, T): # rollout è sinonimo di traiettoria\n",
        "    \"\"\"\n",
        "    Collects m rollouts by running the policy in the\n",
        "        environment\n",
        "    :param env: (Env object) the Gym environment\n",
        "    :param policy: (Policy object) the policy\n",
        "    :param gamma: (float) the discount factor\n",
        "    :param m: (int) number of episodes per iterations\n",
        "    :param K: (int) maximum number of iterations\n",
        "    :param theta0: (ndarray) initial parameters (d,)\n",
        "    :param alpha: (float) the constant learning rate\n",
        "    :param T: (int) the trajectory horizon\n",
        "    :return: (list of lists) one list per episode\n",
        "                each containing triples (s, a, r)\n",
        "    \"\"\"\n",
        "\n",
        "    ll = []\n",
        "    for j in range(m): # cicla m volte per raccogliere m traiettorie (episodi)\n",
        "\n",
        "        # inizializza le variabili per un singolo episodio\n",
        "        s, _ = env.reset() #  RESETTARE L'AMBIENTE AL SUO STATO INIZIALE, FONDAMENTALE PER INIZIARE UN NUOVO EPISODIO PULITO\n",
        "        t = 0 # misura l'orizzonte temporale\n",
        "        done = False # indica se l'episodio ha terminato\n",
        "        l = [] # un elemento di ll\n",
        "\n",
        "\n",
        "        while t < T and not done:\n",
        "\n",
        "            #singolo step\n",
        "            a, _ = policy.predict(s)\n",
        "            s1, r, done, _, _ = env.step(a)\n",
        "\n",
        "            l.append((s, a, r))\n",
        "            s = s1\n",
        "            t += 1\n",
        "\n",
        "        ll.append(l)\n",
        "\n",
        "    return ll\n",
        "\n",
        "\n",
        "############################################################\n",
        "\n",
        "\n",
        "\n",
        "def train(env, policy, gamma, m, K, alpha, T):\n",
        "    \"\"\"\n",
        "    Train a policy with G(PO)MDP\n",
        "    :param env: (Env object) the Gym environment\n",
        "    :param policy: (Policy object) the policy\n",
        "    :param gamma: (float) the discount factor\n",
        "    :param m: (int) number of episodes per iterations\n",
        "    :param K: (int) maximum number of iterations\n",
        "    :param alpha: (float) the constant learning rate\n",
        "    :param T: (int) the trajectory horizon\n",
        "    :return: list (ndarray, ndarray) the evaluations\n",
        "    \"\"\"\n",
        "\n",
        "    results = []\n",
        "\n",
        "    # Evaluate the initial policy\n",
        "    res = evaluate(env, policy, gamma)\n",
        "    results.append(res)\n",
        "\n",
        "    for k in range(K):\n",
        "\n",
        "        print('Iteration:', k)\n",
        "\n",
        "        # Generate rollouts\n",
        "        rollouts = collect_rollouts(env, policy, m, T)\n",
        "\n",
        "        # Get policy parameter\n",
        "        theta = policy.get_theta()\n",
        "\n",
        "        # Call your G(PO)MDP estimator\n",
        "        pg = gpomdp(rollouts, policy, gamma)\n",
        "\n",
        "        # Update policy parameter\n",
        "        theta = theta + alpha * pg\n",
        "\n",
        "        # Set policy parameters\n",
        "        policy.set_theta(theta)\n",
        "\n",
        "        # Evaluate the updated policy\n",
        "        res = evaluate(env, policy, gamma)\n",
        "        results.append(res)\n",
        "\n",
        "    return results"
      ]
    },
    {
      "cell_type": "markdown",
      "metadata": {
        "id": "eCer8hnx-wkS"
      },
      "source": [
        "## Exercise 2\n",
        "\n",
        "Complete the following function `gpomdp` that computes the G(PO)MDP gradient estimator given rollout trajectories."
      ]
    },
    {
      "cell_type": "code",
      "execution_count": null,
      "metadata": {
        "id": "zl_-esa5-wkS"
      },
      "outputs": [],
      "source": [
        "def gpomdp(rollouts, policy, gamma):\n",
        "    \"\"\"\n",
        "    :param rollouts: (list of lists) generated by 'collect_rollouts'\n",
        "    :param policy: (Policy object) the policy\n",
        "    :param gamma: (float) the discount factor\n",
        "    :return: (ndarray) the policy gradient (dim,)\n",
        "    \"\"\"\n",
        "\n",
        "    grad = 0\n",
        "\n",
        "    #TODO\n",
        "\n",
        "    return grad"
      ]
    },
    {
      "cell_type": "markdown",
      "metadata": {
        "id": "1sJ2_i1J-wkS"
      },
      "source": [
        "## Exercise 2 - Solution"
      ]
    },
    {
      "cell_type": "markdown",
      "metadata": {
        "id": "AVaGHSXX-wkT"
      },
      "source": [
        "The following is a possible implementation of G(PO)MDP that turns out to be very inefficient! It can be improved by precomputing the scores at the beginning and using matrix operations instead of for cicles."
      ]
    },
    {
      "cell_type": "code",
      "execution_count": 9,
      "metadata": {
        "id": "uGYZ4GZl-wkT"
      },
      "outputs": [],
      "source": [
        "def gpomdp_inefficient(rollouts, policy, gamma):\n",
        "\n",
        "  \"\"\"\n",
        "  rollouts (episodi) = [\n",
        "    # --- Inizio del primo rollout (episodio) (roll_1) ---\n",
        "    [\n",
        "        # (stato, azione, ricompensa)\n",
        "        ( (0,0), 'Destra', -1 ), (step 1 primo episodio)\n",
        "        ( (0,1), 'Giù',    -5 ),  (step 2 primo episodio)\n",
        "        ( (1,1), 'Destra', -1 ),\n",
        "        ( (1,2), 'Giù',    +10 )\n",
        "    ],\n",
        "    # --- Fine del primo rollout ---\n",
        "\n",
        "    # --- Inizio del secondo rollout (roll_2) ---\n",
        "    [\n",
        "        # (stato, azione, ricompensa)\n",
        "        ( (0,0), 'Giù',    -1 ),\n",
        "        ( (1,0), 'Giù',    -1 ),\n",
        "        ( (2,0), 'Destra', -1 ),\n",
        "        ( (2,1), 'Destra', +10 )\n",
        "    ]\n",
        "    # --- Fine del secondo rollout ---\n",
        "]\n",
        "  \"\"\"\n",
        "\n",
        "    grad = 0\n",
        "\n",
        "    # Very very inefficient implementation!\n",
        "    for roll in rollouts: # per ogni episodio\n",
        "        H = len(roll) # lunghezza dell'episodio\n",
        "\n",
        "        sum_rew = 0.\n",
        "        for t in range(H): # t va da 0 a H-1\n",
        "\n",
        "            sum_scores = 0.\n",
        "            for l in range(t + 1): # l va da 0 a (t+1)-1\n",
        "                s, a, _ = roll[l]\n",
        "                score = policy.grad_log(s, a)\n",
        "                sum_scores += score\n",
        "\n",
        "            _, _, r = roll[t] # ritorna lo step t dell'episodio in considerazione\n",
        "            sum_rew += gamma ** t * r * sum_scores\n",
        "\n",
        "        grad += sum_rew\n",
        "\n",
        "    return grad / len(rollouts)"
      ]
    },
    {
      "cell_type": "markdown",
      "metadata": {
        "id": "ULwImUbb-wkT"
      },
      "source": [
        "We can speedup the implementation, by precomputing the cumulative sum of the scores."
      ]
    },
    {
      "cell_type": "code",
      "execution_count": 10,
      "metadata": {
        "id": "Gxj0CdDr-wkU"
      },
      "outputs": [],
      "source": [
        "def gpomdp(rollouts, policy, gamma):\n",
        "\n",
        "    grad = 0\n",
        "\n",
        "    # A little more efficient implementation!\n",
        "    for roll in rollouts:\n",
        "        H = len(roll)\n",
        "        disc_rew = np.zeros((H, 1))\n",
        "        scores = np.zeros((H, policy.dim))\n",
        "\n",
        "        for t in range(H):\n",
        "            s, a, r = roll[t]\n",
        "            disc_rew[t] = gamma ** t * r\n",
        "            scores[t] = policy.grad_log(s, a)\n",
        "\n",
        "        cum_scores = np.cumsum(scores, axis=0) # per ogni colonna ogni riga somma gli elementi delle righe prima\n",
        "\n",
        "        grad += np.sum(cum_scores * disc_rew, axis=0) # matrice (1xpolicy.dim)\n",
        "\n",
        "\n",
        "    return grad / len(rollouts)"
      ]
    },
    {
      "cell_type": "markdown",
      "metadata": {
        "id": "6kBPuatb-wkU"
      },
      "source": [
        "## Test our Implementation\n",
        "\n",
        "We test our G(PO)MDP implementation over the `MountainCarContinuous-v0` environment.\n",
        "\n",
        "MountainCarContinuous Environment Decription: [https://gymnasium.farama.org/environments/classic_control/mountain_car_continuous/](https://gymnasium.farama.org/environments/classic_control/mountain_car_continuous/)\n",
        "\n",
        "MountainCarContinuous Source Code: [https://github.com/Farama-Foundation/Gymnasium/blob/main/gymnasium/envs/classic_control/continuous_mountain_car.py](https://github.com/Farama-Foundation/Gymnasium/blob/main/gymnasium/envs/classic_control/continuous_mountain_car.py)\n",
        "\n",
        "We consider a modified simpler version"
      ]
    },
    {
      "cell_type": "code",
      "execution_count": 11,
      "metadata": {
        "id": "XWUCb8S3-wka"
      },
      "outputs": [],
      "source": [
        "import gymnasium as gym\n",
        "# Importa la classe specifica dell'ambiente originale che vogliamo modificare.\n",
        "from gymnasium.envs.classic_control.continuous_mountain_car import Continuous_MountainCarEnv\n",
        "# Importa la funzione per registrare il nostro nuovo ambiente custom.\n",
        "from gymnasium.envs.registration import register\n",
        "# Importa 'Optional' per la type-hinting, indicando che un argomento può essere di un tipo o None.\n",
        "from typing import Optional\n",
        "\n",
        "# Definisce una nuova classe per il nostro ambiente.\n",
        "# Eredita dalla classe originale Continuous_MountainCarEnv.\n",
        "# Questo significa che, di base, si comporterà esattamente come l'originale,\n",
        "# a meno che non sovrascriviamo esplicitamente alcuni dei suoi metodi o attributi.\n",
        "class SimplifiedContinuous_MountainCarEnv(Continuous_MountainCarEnv):\n",
        "    # Questo è il costruttore della classe. Viene chiamato ogni volta che si crea un'istanza\n",
        "    # dell'ambiente (es. con gym.make()).\n",
        "    def __init__(self, render_mode: Optional[str] = None, goal_velocity=0):\n",
        "        # Chiama il costruttore della classe \"genitore\" (Continuous_MountainCarEnv).\n",
        "        super(SimplifiedContinuous_MountainCarEnv, self).__init__(render_mode, goal_velocity)\n",
        "\n",
        "        # We make the environment a little bit simpler by increasing the power\n",
        "        # Nell'ambiente originale, self.power è 0.0015. Aumentandolo a 0.02,\n",
        "        # stiamo rendendo il \"motore\" del carrello molto più potente.\n",
        "        # Questo semplifica il problema, perché l'agente può raggiungere la cima della\n",
        "        # collina più facilmente, richiedendo meno \"slancio\".\n",
        "        self.power =  0.02\n",
        "\n",
        "# Questa funzione rende il nostro ambiente personalizzato noto a Gymnasium.\n",
        "# Dopo questa chiamata, potremo creare un'istanza con gym.make(\"SimplifiedMountainCarContinuous-v1\").\n",
        "register(\n",
        "    id=\"SimplifiedMountainCarContinuous-v1\",\n",
        "    # 'entry_point': Indica a Gymnasium dove trovare la classe da istanziare.\n",
        "    # In questo caso, è la classe 'SimplifiedContinuous_MountainCarEnv' nel file principale.\n",
        "    entry_point=\"__main__:SimplifiedContinuous_MountainCarEnv\",\n",
        "    max_episode_steps=200,\n",
        "    # 'reward_threshold': Il punteggio medio di ricompensa su un certo numero di episodi\n",
        "    # al di sopra del quale l'ambiente è considerato \"risolto\".\n",
        "    reward_threshold=100,\n",
        ")"
      ]
    },
    {
      "cell_type": "code",
      "execution_count": 12,
      "metadata": {
        "id": "VcsmR6RS-wkb",
        "outputId": "601c0edf-8226-4678-da0c-c5072279f867",
        "colab": {
          "base_uri": "https://localhost:8080/"
        }
      },
      "outputs": [
        {
          "output_type": "stream",
          "name": "stdout",
          "text": [
            "Mean reward: 13.307331928581753 Std reward: 3.2329989747122676 Num episodes: 100\n",
            "Iteration: 0\n",
            "Mean reward: 25.17851531618667 Std reward: 3.977500908515107 Num episodes: 100\n",
            "Iteration: 1\n",
            "Mean reward: 20.39655455271607 Std reward: 3.781755950183652 Num episodes: 100\n",
            "Iteration: 2\n",
            "Mean reward: 39.950116254850116 Std reward: 4.456400620632498 Num episodes: 100\n",
            "Iteration: 3\n",
            "Mean reward: 42.99514492618537 Std reward: 4.4193884357031274 Num episodes: 100\n",
            "Iteration: 4\n",
            "Mean reward: 50.21287058291027 Std reward: 4.475699525980727 Num episodes: 100\n",
            "Iteration: 5\n",
            "Mean reward: 49.51285148744052 Std reward: 4.509528740383147 Num episodes: 100\n",
            "Iteration: 6\n",
            "Mean reward: 60.92936706890553 Std reward: 4.350714209601859 Num episodes: 100\n",
            "Iteration: 7\n",
            "Mean reward: 60.65877685743813 Std reward: 4.435955667933833 Num episodes: 100\n",
            "Iteration: 8\n",
            "Mean reward: 74.51082990113076 Std reward: 3.6052217347209976 Num episodes: 100\n",
            "Iteration: 9\n",
            "Mean reward: 77.08617279231855 Std reward: 3.2110439036524623 Num episodes: 100\n",
            "Iteration: 10\n",
            "Mean reward: 73.8660023691056 Std reward: 3.5485410394901074 Num episodes: 100\n",
            "Iteration: 11\n",
            "Mean reward: 71.71134087467387 Std reward: 3.5540711456651537 Num episodes: 100\n",
            "Iteration: 12\n",
            "Mean reward: 72.8600628039404 Std reward: 3.744744315968326 Num episodes: 100\n",
            "Iteration: 13\n",
            "Mean reward: 79.71384604756234 Std reward: 3.199966350000835 Num episodes: 100\n",
            "Iteration: 14\n",
            "Mean reward: 75.38604063611857 Std reward: 3.663314511594341 Num episodes: 100\n",
            "Iteration: 15\n",
            "Mean reward: 77.85638377818047 Std reward: 3.4066854722190865 Num episodes: 100\n",
            "Iteration: 16\n",
            "Mean reward: 83.93601772982304 Std reward: 2.599534316974116 Num episodes: 100\n",
            "Iteration: 17\n",
            "Mean reward: 79.68619026661584 Std reward: 3.212571513996767 Num episodes: 100\n",
            "Iteration: 18\n",
            "Mean reward: 79.73460106603459 Std reward: 3.232531185804438 Num episodes: 100\n",
            "Iteration: 19\n",
            "Mean reward: 62.53605392965866 Std reward: 4.352283510803742 Num episodes: 100\n",
            "Iteration: 20\n",
            "Mean reward: 77.30954462879149 Std reward: 3.4090533628773287 Num episodes: 100\n",
            "Iteration: 21\n",
            "Mean reward: 80.01379854500675 Std reward: 3.2505649282240787 Num episodes: 100\n",
            "Iteration: 22\n",
            "Mean reward: 72.29489098490194 Std reward: 3.810159929217719 Num episodes: 100\n",
            "Iteration: 23\n",
            "Mean reward: 88.4672902491758 Std reward: 2.1088589596379075 Num episodes: 100\n",
            "Iteration: 24\n",
            "Mean reward: 90.07921270687217 Std reward: 1.6708948769978105 Num episodes: 100\n",
            "Iteration: 25\n",
            "Mean reward: 89.91673977411212 Std reward: 1.6931345306759003 Num episodes: 100\n",
            "Iteration: 26\n",
            "Mean reward: 93.17883673143278 Std reward: 1.0415070886941469 Num episodes: 100\n",
            "Iteration: 27\n",
            "Mean reward: 89.78204373023209 Std reward: 1.712311675792922 Num episodes: 100\n",
            "Iteration: 28\n",
            "Mean reward: 90.5223656072784 Std reward: 1.700896081068434 Num episodes: 100\n",
            "Iteration: 29\n",
            "Mean reward: 91.56919283479517 Std reward: 1.4058809335643605 Num episodes: 100\n",
            "Iteration: 30\n",
            "Mean reward: 91.89103792486412 Std reward: 1.4076966301843035 Num episodes: 100\n",
            "Iteration: 31\n",
            "Mean reward: 86.01962047144694 Std reward: 2.3169972255630245 Num episodes: 100\n",
            "Iteration: 32\n",
            "Mean reward: 86.58970822944528 Std reward: 2.49487001232081 Num episodes: 100\n",
            "Iteration: 33\n",
            "Mean reward: 92.89432258227039 Std reward: 1.0644427146030453 Num episodes: 100\n",
            "Iteration: 34\n",
            "Mean reward: 93.46283885513756 Std reward: 0.35500937960972834 Num episodes: 100\n",
            "Iteration: 35\n",
            "Mean reward: 92.46207227868841 Std reward: 1.0460510027910164 Num episodes: 100\n",
            "Iteration: 36\n",
            "Mean reward: 91.53788993407113 Std reward: 1.406926626942171 Num episodes: 100\n",
            "Iteration: 37\n",
            "Mean reward: 89.74336148496788 Std reward: 1.924762211232178 Num episodes: 100\n",
            "Iteration: 38\n",
            "Mean reward: 92.0865644249039 Std reward: 1.4214729366297891 Num episodes: 100\n",
            "Iteration: 39\n",
            "Mean reward: 87.67064719613786 Std reward: 2.1423107212886197 Num episodes: 100\n",
            "Iteration: 40\n",
            "Mean reward: 91.44871534488745 Std reward: 1.4074300912659519 Num episodes: 100\n",
            "Iteration: 41\n",
            "Mean reward: 89.60736738508405 Std reward: 1.3631175167470888 Num episodes: 100\n",
            "Iteration: 42\n",
            "Mean reward: 92.04967980788699 Std reward: 1.4034509890722522 Num episodes: 100\n",
            "Iteration: 43\n",
            "Mean reward: 93.06398183027196 Std reward: 1.039014542018466 Num episodes: 100\n",
            "Iteration: 44\n",
            "Mean reward: 91.43158365072118 Std reward: 1.701415760993933 Num episodes: 100\n",
            "Iteration: 45\n",
            "Mean reward: 92.83006700432381 Std reward: 0.41810415577436444 Num episodes: 100\n",
            "Iteration: 46\n",
            "Mean reward: 89.63818087056761 Std reward: 1.3584117257125483 Num episodes: 100\n",
            "Iteration: 47\n",
            "Mean reward: 87.7925088851997 Std reward: 1.6213634271113446 Num episodes: 100\n",
            "Iteration: 48\n",
            "Mean reward: 90.76009775641016 Std reward: 1.0080637636316048 Num episodes: 100\n",
            "Iteration: 49\n",
            "Mean reward: 89.17521662379175 Std reward: 0.9829080099363434 Num episodes: 100\n",
            "Iteration: 50\n",
            "Mean reward: 91.34178261059695 Std reward: 1.3856849205252602 Num episodes: 100\n",
            "Iteration: 51\n",
            "Mean reward: 92.90450248835987 Std reward: 0.3987873109151562 Num episodes: 100\n",
            "Iteration: 52\n",
            "Mean reward: 93.8097536915601 Std reward: 0.4279128072918329 Num episodes: 100\n",
            "Iteration: 53\n",
            "Mean reward: 93.55447518213435 Std reward: 1.0479863696418479 Num episodes: 100\n",
            "Iteration: 54\n",
            "Mean reward: 93.94251940374527 Std reward: 1.0284140106760022 Num episodes: 100\n",
            "Iteration: 55\n",
            "Mean reward: 94.1532759178879 Std reward: 1.032336215496024 Num episodes: 100\n",
            "Iteration: 56\n",
            "Mean reward: 93.95182011421646 Std reward: 0.3997284461990522 Num episodes: 100\n",
            "Iteration: 57\n",
            "Mean reward: 94.53088054824872 Std reward: 0.35826172634008374 Num episodes: 100\n",
            "Iteration: 58\n",
            "Mean reward: 95.05796014580929 Std reward: 0.369772969083664 Num episodes: 100\n",
            "Iteration: 59\n",
            "Mean reward: 94.64023390874706 Std reward: 0.3516600880689296 Num episodes: 100\n",
            "Iteration: 60\n",
            "Mean reward: 93.36115647169109 Std reward: 0.35158969937734946 Num episodes: 100\n",
            "Iteration: 61\n",
            "Mean reward: 93.30554172657224 Std reward: 0.4092729007121677 Num episodes: 100\n",
            "Iteration: 62\n",
            "Mean reward: 94.59696994757742 Std reward: 0.35633226116444205 Num episodes: 100\n",
            "Iteration: 63\n",
            "Mean reward: 95.13155579091296 Std reward: 0.3492705728786127 Num episodes: 100\n",
            "Iteration: 64\n",
            "Mean reward: 94.18591012085302 Std reward: 1.0389511523782493 Num episodes: 100\n",
            "Iteration: 65\n",
            "Mean reward: 95.86706414987812 Std reward: 0.31615114944342 Num episodes: 100\n",
            "Iteration: 66\n",
            "Mean reward: 94.61677385296976 Std reward: 0.41881857782816795 Num episodes: 100\n",
            "Iteration: 67\n",
            "Mean reward: 95.20707560974233 Std reward: 0.33888313088574806 Num episodes: 100\n",
            "Iteration: 68\n",
            "Mean reward: 94.52870877761308 Std reward: 0.30922995966075795 Num episodes: 100\n",
            "Iteration: 69\n",
            "Mean reward: 93.58910015747952 Std reward: 1.0313461625223685 Num episodes: 100\n",
            "Iteration: 70\n",
            "Mean reward: 90.00689718852742 Std reward: 1.6407871886003416 Num episodes: 100\n",
            "Iteration: 71\n",
            "Mean reward: 91.19962635851384 Std reward: 0.35319355358049587 Num episodes: 100\n",
            "Iteration: 72\n",
            "Mean reward: 87.43438055166018 Std reward: 1.3053080649312907 Num episodes: 100\n",
            "Iteration: 73\n",
            "Mean reward: 92.86474564888567 Std reward: 0.38625125206568167 Num episodes: 100\n",
            "Iteration: 74\n",
            "Mean reward: 93.06209754757604 Std reward: 1.034595797981823 Num episodes: 100\n",
            "Iteration: 75\n",
            "Mean reward: 91.16164199016269 Std reward: 1.0129998500774193 Num episodes: 100\n",
            "Iteration: 76\n",
            "Mean reward: 91.90552207483394 Std reward: 1.0125630685006815 Num episodes: 100\n",
            "Iteration: 77\n",
            "Mean reward: 64.61560718797502 Std reward: 4.016124630182501 Num episodes: 100\n",
            "Iteration: 78\n",
            "Mean reward: 96.2417747674122 Std reward: 0.2794923360574335 Num episodes: 100\n",
            "Iteration: 79\n",
            "Mean reward: 94.56678655647804 Std reward: 0.47740220582203463 Num episodes: 100\n",
            "Iteration: 80\n",
            "Mean reward: 94.4879350004427 Std reward: 0.4376262262112513 Num episodes: 100\n",
            "Iteration: 81\n",
            "Mean reward: 94.9488290360838 Std reward: 0.41458039940138397 Num episodes: 100\n",
            "Iteration: 82\n",
            "Mean reward: 91.38619998761435 Std reward: 1.725581998656817 Num episodes: 100\n",
            "Iteration: 83\n",
            "Mean reward: 95.41854359639542 Std reward: 0.3186048985341817 Num episodes: 100\n",
            "Iteration: 84\n",
            "Mean reward: 95.09483189641567 Std reward: 0.3063553544946936 Num episodes: 100\n",
            "Iteration: 85\n",
            "Mean reward: 93.80302300799598 Std reward: 0.3284430538425862 Num episodes: 100\n",
            "Iteration: 86\n",
            "Mean reward: 94.56663317870631 Std reward: 0.3556668919106054 Num episodes: 100\n",
            "Iteration: 87\n",
            "Mean reward: 93.1045853706952 Std reward: 0.34932371036622983 Num episodes: 100\n",
            "Iteration: 88\n",
            "Mean reward: 94.09819816424701 Std reward: 0.39004000013010287 Num episodes: 100\n",
            "Iteration: 89\n",
            "Mean reward: 95.98617753171914 Std reward: 0.3376142124885637 Num episodes: 100\n",
            "Iteration: 90\n",
            "Mean reward: 95.65410478011847 Std reward: 0.3183674189532297 Num episodes: 100\n",
            "Iteration: 91\n",
            "Mean reward: 95.9836445196477 Std reward: 0.28682615220952734 Num episodes: 100\n",
            "Iteration: 92\n",
            "Mean reward: 95.02262663542889 Std reward: 0.3410415733849498 Num episodes: 100\n",
            "Iteration: 93\n",
            "Mean reward: 96.14123968496975 Std reward: 0.28557590070865513 Num episodes: 100\n",
            "Iteration: 94\n",
            "Mean reward: 95.30082932721074 Std reward: 0.3494419787700156 Num episodes: 100\n",
            "Iteration: 95\n",
            "Mean reward: 95.72059759039307 Std reward: 0.30267234991170827 Num episodes: 100\n",
            "Iteration: 96\n",
            "Mean reward: 95.50955104697402 Std reward: 0.3363211920079582 Num episodes: 100\n",
            "Iteration: 97\n",
            "Mean reward: 95.50849481714216 Std reward: 0.29755087119984236 Num episodes: 100\n",
            "Iteration: 98\n",
            "Mean reward: 95.92779467612425 Std reward: 0.3170477168305981 Num episodes: 100\n",
            "Iteration: 99\n",
            "Mean reward: 93.25554762889992 Std reward: 1.4204528832688565 Num episodes: 100\n"
          ]
        }
      ],
      "source": [
        "import numpy as np\n",
        "\n",
        "\n",
        "# Instantiate the environment\n",
        "env = gym.make('SimplifiedMountainCarContinuous-v1')\n",
        "\n",
        "env_eval = gym.make('SimplifiedMountainCarContinuous-v1', render_mode = \"rgb_array\")\n",
        "env_eval = renderlab.RenderFrame(env_eval, \"./output\")\n",
        "\n",
        "# Instantiate the policy\n",
        "policy = GaussianPolicy(env.observation_space.shape[0], std=0.2)\n",
        "\n",
        "gamma = 0.999  # discount factor\n",
        "m = 100        # number of trajectories per iteration\n",
        "K = 100        # maximum number of iterations\n",
        "alpha = 0.001  # learning rate\n",
        "T = 200        # lenght of each trajectory\n",
        "\n",
        "# Start training\n",
        "results = train(env, policy, gamma, m, K, alpha, T)"
      ]
    },
    {
      "cell_type": "markdown",
      "metadata": {
        "id": "3DyBnMpz-wkb"
      },
      "source": [
        "Let us render the results."
      ]
    },
    {
      "cell_type": "code",
      "execution_count": 13,
      "metadata": {
        "id": "-TaoJLuv-wkb",
        "outputId": "12432015-9e4b-43df-c512-7075661a1c37",
        "colab": {
          "base_uri": "https://localhost:8080/",
          "height": 599
        }
      },
      "outputs": [
        {
          "output_type": "stream",
          "name": "stderr",
          "text": [
            "WARNING:py.warnings:/tmp/ipython-input-1596058116.py:26: RuntimeWarning: invalid value encountered in scalar divide\n",
            "  std_episode_reward = np.std(all_episode_rewards) / np.sqrt(num_episodes - 1)\n",
            "\n"
          ]
        },
        {
          "output_type": "stream",
          "name": "stdout",
          "text": [
            "Mean reward: 99.39917350512822 Std reward: 0.05144939701712207 Num episodes: 100\n",
            "Mean reward: 99.70785641754755 Std reward: nan Num episodes: 1\n",
            "Moviepy - Building video temp-{start}.mp4.\n",
            "Moviepy - Writing video temp-{start}.mp4\n",
            "\n"
          ]
        },
        {
          "output_type": "stream",
          "name": "stderr",
          "text": []
        },
        {
          "output_type": "stream",
          "name": "stdout",
          "text": [
            "Moviepy - Done !\n",
            "Moviepy - video ready temp-{start}.mp4\n"
          ]
        },
        {
          "output_type": "display_data",
          "data": {
            "text/plain": [
              "<IPython.core.display.Video object>"
            ],
            "text/html": [
              "<video controls  >\n",
              " <source src=\"data:video/mp4;base64,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\" type=\"video/mp4\">\n",
              " Your browser does not support the video tag.\n",
              " </video>"
            ]
          },
          "metadata": {}
        }
      ],
      "source": [
        "perf_mean, perf_std = evaluate(env, policy)\n",
        "\n",
        "evaluate(env_eval, policy, num_episodes=1)\n",
        "env_eval.play()"
      ]
    },
    {
      "cell_type": "code",
      "execution_count": 14,
      "metadata": {
        "id": "O6CiEGFI-wkb",
        "outputId": "f9e75a9a-3ad2-4c5c-d159-2972f9ec0471",
        "colab": {
          "base_uri": "https://localhost:8080/",
          "height": 452
        }
      },
      "outputs": [
        {
          "output_type": "display_data",
          "data": {
            "text/plain": [
              "<Figure size 640x480 with 1 Axes>"
            ],
            "image/png": "[encoded data removed]"
          },
          "metadata": {}
        }
      ],
      "source": [
        "plot_results(results)"
      ]
    }
  ],
  "metadata": {
    "accelerator": "GPU",
    "colab": {
      "provenance": [],
      "include_colab_link": true
    },
    "kernelspec": {
      "display_name": "Python 3",
      "language": "python",
      "name": "python3"
    },
    "language_info": {
      "codemirror_mode": {
        "name": "ipython",
        "version": 3
      },
      "file_extension": ".py",
      "mimetype": "text/x-python",
      "name": "python",
      "nbconvert_exporter": "python",
      "pygments_lexer": "ipython3",
      "version": "3.8.10"
    }
  },
  "nbformat": 4,
  "nbformat_minor": 0
}